{
 "cells": [
  {
   "cell_type": "code",
   "execution_count": 1,
   "metadata": {},
   "outputs": [],
   "source": [
    "#뉴스 기사를 하나 찾아서 news1.txt로 저장\n",
    "f = open(\"../data/수정데이터/통합데이터.txt\")\n",
    "lines = f.readlines()\n",
    "f.close()\n"
   ]
  },
  {
   "cell_type": "code",
   "execution_count": 2,
   "metadata": {},
   "outputs": [],
   "source": [
    "#한나눔 형태소 분석기\n",
    "from konlpy.tag import Hannanum\n",
    "han = Hannanum()\n",
    "temp = []\n",
    "for i in range(len(lines)):\n",
    "    #명사만 추출(좌우 공백 제거)\n",
    "    a=lines[i].strip()\n",
    "    temp.append(han.nouns(a))"
   ]
  },
  {
   "cell_type": "code",
   "execution_count": 3,
   "metadata": {},
   "outputs": [],
   "source": [
    "# 2차원 리스트를 1차원 리스트로 변환하는 함수\n",
    "def flatten(items):\n",
    "    flatList = []\n",
    "    for elem in items:\n",
    "        if type(elem) == list:\n",
    "            for e in elem:\n",
    "                flatList.append(e)\n",
    "        else:\n",
    "            flatList.append(elem)\n",
    "    return flatList\n",
    "word_list=flatten(temp)"
   ]
  },
  {
   "cell_type": "code",
   "execution_count": 5,
   "metadata": {},
   "outputs": [],
   "source": [
    "# 두글자 이상인 단어만 추출\n",
    "import pandas as pd\n",
    "word_list=pd.Series([x for x in word_list if len(x)>1])"
   ]
  },
  {
   "cell_type": "code",
   "execution_count": 10,
   "metadata": {},
   "outputs": [
    {
     "data": {
      "text/plain": [
       "키키     273247\n",
       "진짜      50180\n",
       "ㅠㅠ      38499\n",
       "이름      31631\n",
       "근데      29278\n",
       "고객님     25746\n",
       "소속      24843\n",
       "사람      21377\n",
       "감사      21124\n",
       "우리      19718\n",
       "ㅜㅜ      17654\n",
       "그거      17467\n",
       "생각      15027\n",
       "상품      14304\n",
       "확인      14239\n",
       "어디      13468\n",
       "그것      12719\n",
       "안녕      12620\n",
       "누구      12227\n",
       "게임      11372\n",
       "시간      11338\n",
       "한번      11091\n",
       "오늘      10472\n",
       "거기       9664\n",
       "이번       9530\n",
       "정도       9103\n",
       "가능       9100\n",
       "여행       8532\n",
       "영화       7620\n",
       "주문       7574\n",
       "언니       7439\n",
       "완전       7199\n",
       "다들       7106\n",
       "하나       7010\n",
       "하루       6940\n",
       "엄마       6904\n",
       "때문       6792\n",
       "언제       6567\n",
       "친구       6517\n",
       "저희       6497\n",
       "상담원      6409\n",
       "군대       6399\n",
       "요즘       6353\n",
       "응응       6299\n",
       "상담사      5859\n",
       "결혼       5772\n",
       "사용       5683\n",
       "전화       5620\n",
       "강아지      5538\n",
       "회사       5462\n",
       "dtype: int64"
      ]
     },
     "execution_count": 10,
     "metadata": {},
     "output_type": "execute_result"
    }
   ],
   "source": [
    "#단어별 출현 빈도\n",
    "word_list.value_counts().head(50)"
   ]
  },
  {
   "cell_type": "code",
   "execution_count": 32,
   "metadata": {},
   "outputs": [],
   "source": [
    "#직접 불용어 처리\n",
    "nol=['키키','진짜','ㅠㅠ','ㅜㅜ','근데','그거','그것','정도','응응','그치','때문','거지','뭔가','이거','재밌','부탁드',\n",
    "     '건가요','건가','같애','해당','오오','이요','였습니','그렇긴','중이']\n",
    "cut = []\n",
    "srv = []\n",
    "for i in range(len(word_list)):\n",
    "    if word_list[i] in nol:\n",
    "        cut.append(word_list[i])\n",
    "    else:\n",
    "        srv.append(word_list[i])"
   ]
  },
  {
   "cell_type": "code",
   "execution_count": 20,
   "metadata": {},
   "outputs": [],
   "source": [
    "count={}\n",
    "for i in srv:\n",
    "    try:\n",
    "        count[i] +=1\n",
    "    except:\n",
    "        count[i] = 1"
   ]
  },
  {
   "cell_type": "code",
   "execution_count": 34,
   "metadata": {},
   "outputs": [
    {
     "data": {
      "text/plain": [
       "[('그때', 4801),\n",
       " ('주소', 4789),\n",
       " ('대박', 4699),\n",
       " ('전번', 4660),\n",
       " ('경우', 4641),\n",
       " ('공부', 4536),\n",
       " ('날씨', 4496),\n",
       " ('구매', 4459),\n",
       " ('사람들', 4446),\n",
       " ('얼마', 4435),\n",
       " ('제품', 4399),\n",
       " ('겨울', 4392),\n",
       " ('다음', 4385),\n",
       " ('필요', 4234),\n",
       " ('배송', 4198),\n",
       " ('나중', 4194),\n",
       " ('거지', 4084),\n",
       " ('뭔가', 4041),\n",
       " ('아빠', 4027),\n",
       " ('예전', 4027),\n",
       " ('서울', 3945),\n",
       " ('기억', 3933),\n",
       " ('건강', 3883),\n",
       " ('우리나라', 3766),\n",
       " ('시작', 3744),\n",
       " ('고양이', 3704),\n",
       " ('이용', 3702),\n",
       " ('추천', 3671),\n",
       " ('일본', 3659),\n",
       " ('동생', 3649),\n",
       " ('맨날', 3615),\n",
       " ('머리', 3583),\n",
       " ('이거', 3556),\n",
       " ('버스', 3443),\n",
       " ('내용', 3339),\n",
       " ('수고하세요', 3339),\n",
       " ('제주', 3330),\n",
       " ('결제', 3284),\n",
       " ('드라마', 3282),\n",
       " ('이상', 3281),\n",
       " ('어제', 3280),\n",
       " ('부분', 3233),\n",
       " ('부모님', 3224),\n",
       " ('걱정', 3194),\n",
       " ('문의', 3165),\n",
       " ('주세요', 3151),\n",
       " ('반품', 3141),\n",
       " ('가격', 3117),\n",
       " ('가족', 3085),\n",
       " ('누나', 3048)]"
      ]
     },
     "execution_count": 34,
     "metadata": {},
     "output_type": "execute_result"
    }
   ],
   "source": [
    "sorted(count.items(), key=lambda x: x[1], reverse=True)[50:100]"
   ]
  },
  {
   "cell_type": "code",
   "execution_count": null,
   "metadata": {},
   "outputs": [],
   "source": []
  }
 ],
 "metadata": {
  "kernelspec": {
   "display_name": "base",
   "language": "python",
   "name": "python3"
  },
  "language_info": {
   "name": "python",
   "version": "3.9.13"
  },
  "orig_nbformat": 4
 },
 "nbformat": 4,
 "nbformat_minor": 2
}
