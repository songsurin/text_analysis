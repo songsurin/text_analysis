{
 "cells": [
  {
   "cell_type": "code",
   "execution_count": 1,
   "metadata": {},
   "outputs": [],
   "source": [
    "import os\n",
    "import glob\n",
    "import pandas as pd\n",
    "import re\n",
    "import json\n",
    "import time\n",
    "from selenium import webdriver\n",
    "from selenium.webdriver.common.by import By"
   ]
  },
  {
   "attachments": {},
   "cell_type": "markdown",
   "metadata": {},
   "source": [
    "## 1. 용도별 목적대화 데이터"
   ]
  },
  {
   "cell_type": "code",
   "execution_count": 2,
   "metadata": {},
   "outputs": [],
   "source": [
    "def counting(path):\n",
    "    cnt = 0\n",
    "    data_dir = path\n",
    "\n",
    "    for path in os.listdir(data_dir):\n",
    "        if os.path.isfile(os.path.join(data_dir, path)):\n",
    "            cnt += 1\n",
    "\n",
    "    print(f'데이터 개수: {cnt}')\n",
    "    return cnt"
   ]
  },
  {
   "cell_type": "code",
   "execution_count": 3,
   "metadata": {},
   "outputs": [],
   "source": [
    "target_path = \"../data/원본데이터/용도별 목적대화 데이터/\""
   ]
  },
  {
   "cell_type": "code",
   "execution_count": 4,
   "metadata": {},
   "outputs": [
    {
     "data": {
      "text/plain": [
       "['AS문의',\n",
       " '관광',\n",
       " '교통',\n",
       " '등록문의',\n",
       " '레저',\n",
       " '민원신고',\n",
       " '배송',\n",
       " '부서안내',\n",
       " '비용환불문의',\n",
       " '서류문의',\n",
       " '숙박',\n",
       " '식당',\n",
       " '온오프라인안내',\n",
       " '이벤트',\n",
       " '일정문의',\n",
       " '절차문의',\n",
       " '제품사용문의',\n",
       " '주문결제',\n",
       " '프로그램문의',\n",
       " '환불반품교환']"
      ]
     },
     "execution_count": 4,
     "metadata": {},
     "output_type": "execute_result"
    }
   ],
   "source": [
    "target_path_list = os.listdir(target_path)\n",
    "target_path_list"
   ]
  },
  {
   "cell_type": "code",
   "execution_count": 5,
   "metadata": {},
   "outputs": [
    {
     "name": "stdout",
     "output_type": "stream",
     "text": [
      "데이터 개수: 2726\n",
      "데이터 개수: 200\n",
      "데이터 개수: 100\n",
      "데이터 개수: 200\n",
      "데이터 개수: 200\n",
      "데이터 개수: 300\n",
      "데이터 개수: 2143\n",
      "데이터 개수: 200\n",
      "데이터 개수: 100\n",
      "데이터 개수: 200\n",
      "데이터 개수: 100\n",
      "데이터 개수: 100\n",
      "데이터 개수: 2336\n",
      "데이터 개수: 1090\n",
      "데이터 개수: 100\n",
      "데이터 개수: 300\n",
      "데이터 개수: 2773\n",
      "데이터 개수: 2152\n",
      "데이터 개수: 300\n",
      "데이터 개수: 2110\n",
      "총 데이터 개수 = 17730\n"
     ]
    }
   ],
   "source": [
    "total_data = 0\n",
    "for i in range(len(target_path_list)):\n",
    "    cnt = counting(target_path + target_path_list[i])\n",
    "    total_data += cnt\n",
    "print(f'총 데이터 개수 = {total_data}')"
   ]
  },
  {
   "cell_type": "code",
   "execution_count": 6,
   "metadata": {},
   "outputs": [],
   "source": [
    "txt = []\n",
    "for i in range(len(target_path_list)):\n",
    "    files = os.listdir(target_path + target_path_list[i])\n",
    "    for k in range(len(files)):\n",
    "        file_path = str(target_path) + str(target_path_list[i]) + \"/\" + str(files[k])\n",
    "        try:\n",
    "            file = glob.glob(file_path)[0]\n",
    "            f = open(file, 'r', encoding='utf-8')\n",
    "            lines = f.readlines()\n",
    "            f.close()\n",
    "            for line in lines:\n",
    "                line = re.sub('[^가-힣ㄱ-ㅎㅏ-ㅣa-zA-Z]', ' ', line)[2:]\n",
    "                txt.append(line.strip())\n",
    "        except:\n",
    "            print(f\"error! {file_path}\")"
   ]
  },
  {
   "cell_type": "code",
   "execution_count": 7,
   "metadata": {},
   "outputs": [
    {
     "data": {
      "text/plain": [
       "225975"
      ]
     },
     "execution_count": 7,
     "metadata": {},
     "output_type": "execute_result"
    }
   ],
   "source": [
    "len(txt)"
   ]
  },
  {
   "cell_type": "code",
   "execution_count": 8,
   "metadata": {},
   "outputs": [
    {
     "data": {
      "text/html": [
       "<div>\n",
       "<style scoped>\n",
       "    .dataframe tbody tr th:only-of-type {\n",
       "        vertical-align: middle;\n",
       "    }\n",
       "\n",
       "    .dataframe tbody tr th {\n",
       "        vertical-align: top;\n",
       "    }\n",
       "\n",
       "    .dataframe thead th {\n",
       "        text-align: right;\n",
       "    }\n",
       "</style>\n",
       "<table border=\"1\" class=\"dataframe\">\n",
       "  <thead>\n",
       "    <tr style=\"text-align: right;\">\n",
       "      <th></th>\n",
       "      <th>text</th>\n",
       "    </tr>\n",
       "  </thead>\n",
       "  <tbody>\n",
       "    <tr>\n",
       "      <th>0</th>\n",
       "      <td>반갑습니다   소속  상담사   이름 입니다</td>\n",
       "    </tr>\n",
       "    <tr>\n",
       "      <th>1</th>\n",
       "      <td>안내해주신 방법을 시도해 봤는데 안 돼서요</td>\n",
       "    </tr>\n",
       "    <tr>\n",
       "      <th>2</th>\n",
       "      <td>그러시다면 두 번째 방법은요</td>\n",
       "    </tr>\n",
       "    <tr>\n",
       "      <th>3</th>\n",
       "      <td>휴대폰 명의자 본인이요</td>\n",
       "    </tr>\n",
       "    <tr>\n",
       "      <th>4</th>\n",
       "      <td>휴대폰하고 신분증 챙기셔서 저희 서비스센터 쪽으로 방문 하셔야 되세요 고객님</td>\n",
       "    </tr>\n",
       "  </tbody>\n",
       "</table>\n",
       "</div>"
      ],
      "text/plain": [
       "                                         text\n",
       "0                    반갑습니다   소속  상담사   이름 입니다\n",
       "1                     안내해주신 방법을 시도해 봤는데 안 돼서요\n",
       "2                             그러시다면 두 번째 방법은요\n",
       "3                                휴대폰 명의자 본인이요\n",
       "4  휴대폰하고 신분증 챙기셔서 저희 서비스센터 쪽으로 방문 하셔야 되세요 고객님"
      ]
     },
     "execution_count": 8,
     "metadata": {},
     "output_type": "execute_result"
    }
   ],
   "source": [
    "purpose_df = pd.DataFrame({'text': txt})\n",
    "purpose_df.head()"
   ]
  },
  {
   "cell_type": "code",
   "execution_count": 9,
   "metadata": {},
   "outputs": [],
   "source": [
    "purpose_df.to_csv('../data/수정데이터/용도별 목적대화 데이터.csv', index=False)"
   ]
  },
  {
   "attachments": {},
   "cell_type": "markdown",
   "metadata": {},
   "source": [
    "## 2. 주제별 텍스트 일상 대화 데이터"
   ]
  },
  {
   "cell_type": "code",
   "execution_count": 10,
   "metadata": {},
   "outputs": [],
   "source": [
    "target_path = \"../data/원본데이터/주제별 텍스트 일상 대화 데이터/\""
   ]
  },
  {
   "cell_type": "code",
   "execution_count": 11,
   "metadata": {},
   "outputs": [
    {
     "data": {
      "text/plain": [
       "['BAND', 'FACEBOOK', 'INSTAGRAM', 'KAKAO', 'NATEON']"
      ]
     },
     "execution_count": 11,
     "metadata": {},
     "output_type": "execute_result"
    }
   ],
   "source": [
    "target_path_list = os.listdir(target_path)\n",
    "target_path_list"
   ]
  },
  {
   "cell_type": "code",
   "execution_count": 12,
   "metadata": {},
   "outputs": [
    {
     "name": "stdout",
     "output_type": "stream",
     "text": [
      "데이터 개수: 1835\n",
      "데이터 개수: 9002\n",
      "데이터 개수: 5400\n",
      "데이터 개수: 26957\n",
      "데이터 개수: 1807\n",
      "총 데이터 개수 = 45001\n"
     ]
    }
   ],
   "source": [
    "total_data = 0\n",
    "for i in range(len(target_path_list)):\n",
    "    cnt = counting(target_path + target_path_list[i])\n",
    "    total_data += cnt\n",
    "print(f'총 데이터 개수 = {total_data}')"
   ]
  },
  {
   "cell_type": "code",
   "execution_count": 13,
   "metadata": {},
   "outputs": [],
   "source": [
    "txt = []\n",
    "for i in range(len(target_path_list)):\n",
    "    files = os.listdir(target_path + target_path_list[i])\n",
    "    for k in range(len(files)):\n",
    "        file_path = str(target_path) + str(target_path_list[i]) + \"/\" + str(files[k])\n",
    "        try:\n",
    "            file = glob.glob(file_path)[0]\n",
    "            f = open(file, 'r', encoding='utf-8')\n",
    "            lines = f.readlines()\n",
    "            f.close()\n",
    "            for line in lines:\n",
    "                line = re.sub('[^가-힣ㄱ-ㅎㅏ-ㅣa-zA-Z]', ' ', line)\n",
    "                txt.append(line.strip())\n",
    "        except:\n",
    "            print(f\"error! {file_path}\")"
   ]
  },
  {
   "cell_type": "code",
   "execution_count": 14,
   "metadata": {},
   "outputs": [
    {
     "data": {
      "text/plain": [
       "870197"
      ]
     },
     "execution_count": 14,
     "metadata": {},
     "output_type": "execute_result"
    }
   ],
   "source": [
    "len(txt)"
   ]
  },
  {
   "cell_type": "code",
   "execution_count": 15,
   "metadata": {},
   "outputs": [
    {
     "data": {
      "text/html": [
       "<div>\n",
       "<style scoped>\n",
       "    .dataframe tbody tr th:only-of-type {\n",
       "        vertical-align: middle;\n",
       "    }\n",
       "\n",
       "    .dataframe tbody tr th {\n",
       "        vertical-align: top;\n",
       "    }\n",
       "\n",
       "    .dataframe thead th {\n",
       "        text-align: right;\n",
       "    }\n",
       "</style>\n",
       "<table border=\"1\" class=\"dataframe\">\n",
       "  <thead>\n",
       "    <tr style=\"text-align: right;\">\n",
       "      <th></th>\n",
       "      <th>text</th>\n",
       "    </tr>\n",
       "  </thead>\n",
       "  <tbody>\n",
       "    <tr>\n",
       "      <th>0</th>\n",
       "      <td>너희 집 근처에는 병원 있어</td>\n",
       "    </tr>\n",
       "    <tr>\n",
       "      <th>1</th>\n",
       "      <td>응  난 엄청 근처에 있어</td>\n",
       "    </tr>\n",
       "    <tr>\n",
       "      <th>2</th>\n",
       "      <td>나는 차 타고   분 거리에 있어</td>\n",
       "    </tr>\n",
       "    <tr>\n",
       "      <th>3</th>\n",
       "      <td>집 근처에 병원이 있으면 편리한 거 같아</td>\n",
       "    </tr>\n",
       "    <tr>\n",
       "      <th>4</th>\n",
       "      <td>왜 그렇게 생각하는 거야</td>\n",
       "    </tr>\n",
       "  </tbody>\n",
       "</table>\n",
       "</div>"
      ],
      "text/plain": [
       "                     text\n",
       "0         너희 집 근처에는 병원 있어\n",
       "1          응  난 엄청 근처에 있어\n",
       "2      나는 차 타고   분 거리에 있어\n",
       "3  집 근처에 병원이 있으면 편리한 거 같아\n",
       "4           왜 그렇게 생각하는 거야"
      ]
     },
     "execution_count": 15,
     "metadata": {},
     "output_type": "execute_result"
    }
   ],
   "source": [
    "topic_df = pd.DataFrame({'text': txt})\n",
    "topic_df.head()"
   ]
  },
  {
   "cell_type": "code",
   "execution_count": 16,
   "metadata": {},
   "outputs": [],
   "source": [
    "topic_df.to_csv('../data/수정데이터/주제별 텍스트 일상 대화 데이터.csv', index=False)"
   ]
  },
  {
   "attachments": {},
   "cell_type": "markdown",
   "metadata": {},
   "source": [
    "## 3. 일반상식 데이터"
   ]
  },
  {
   "cell_type": "code",
   "execution_count": 28,
   "metadata": {},
   "outputs": [],
   "source": [
    "common_sense = open('../data/원본데이터/일반상식/ko_wiki_v1_squad.json', encoding='utf-8')\n",
    "common_sense = json.loads(common_sense.read())"
   ]
  },
  {
   "cell_type": "code",
   "execution_count": 29,
   "metadata": {},
   "outputs": [
    {
     "data": {
      "text/plain": [
       "dict_keys(['creator', 'version', 'data'])"
      ]
     },
     "execution_count": 29,
     "metadata": {},
     "output_type": "execute_result"
    }
   ],
   "source": [
    "common_sense.keys()"
   ]
  },
  {
   "cell_type": "code",
   "execution_count": 30,
   "metadata": {},
   "outputs": [
    {
     "data": {
      "text/plain": [
       "'MINDs Lab.'"
      ]
     },
     "execution_count": 30,
     "metadata": {},
     "output_type": "execute_result"
    }
   ],
   "source": [
    "common_sense['creator']"
   ]
  },
  {
   "cell_type": "code",
   "execution_count": 31,
   "metadata": {},
   "outputs": [
    {
     "data": {
      "text/plain": [
       "'1'"
      ]
     },
     "execution_count": 31,
     "metadata": {},
     "output_type": "execute_result"
    }
   ],
   "source": [
    "common_sense['version']"
   ]
  },
  {
   "cell_type": "code",
   "execution_count": 32,
   "metadata": {},
   "outputs": [
    {
     "data": {
      "text/plain": [
       "68538"
      ]
     },
     "execution_count": 32,
     "metadata": {},
     "output_type": "execute_result"
    }
   ],
   "source": [
    "len(common_sense['data'])"
   ]
  },
  {
   "cell_type": "code",
   "execution_count": 33,
   "metadata": {},
   "outputs": [
    {
     "data": {
      "text/plain": [
       "{'paragraphs': [{'qas': [{'question': '다테 기미코가 최초로 은퇴 선언을 한게 언제지',\n",
       "     'answers': [{'answer_start': 260, 'text': '1996년 9월 24일'}],\n",
       "     'id': '9_f2_wiki_2822-1'}],\n",
       "   'context': \"재팬 오픈에서 4회 우승하였으며, 통산 단식 200승 이상을 거두었다. 1994년 생애 최초로 세계 랭킹 10위권에 진입하였다. 1992년에는 WTA로부터 '올해 가장 많은 향상을 보여준 선수상'(Most Improved Player Of The Year)을 수여받았으며, 일본 남자 패션 협회(Japan Men's Fashion Association)는 그녀를 '가장 패셔너블한 선수'(Most Fashionable)로 칭했다. 생애 두 번째 올림픽 참가 직후인 1996년 9월 24일 최초로 은퇴를 선언하였다. 이후 12년만인 2008년 4월에 예상치 못한 복귀 선언을 하고 투어에 되돌아왔다. 2008년 6월 15일 도쿄 아리아케 인터내셔널 여자 오픈에서 복귀 후 첫 우승을 기록했으며, 2009년 9월 27일에는 한국에서 열린 한솔 코리아 오픈 대회에서 우승하면서 복귀 후 첫 WTA 투어급 대회 우승을 기록했다. 한숨 좀 작작 쉬어!\"}],\n",
       " 'title': '다테_기미코'}"
      ]
     },
     "execution_count": 33,
     "metadata": {},
     "output_type": "execute_result"
    }
   ],
   "source": [
    "common_sense['data'][0]"
   ]
  },
  {
   "cell_type": "code",
   "execution_count": 34,
   "metadata": {},
   "outputs": [
    {
     "data": {
      "text/plain": [
       "{'question': '다테 기미코가 최초로 은퇴 선언을 한게 언제지',\n",
       " 'answers': [{'answer_start': 260, 'text': '1996년 9월 24일'}],\n",
       " 'id': '9_f2_wiki_2822-1'}"
      ]
     },
     "execution_count": 34,
     "metadata": {},
     "output_type": "execute_result"
    }
   ],
   "source": [
    "common_sense['data'][0]['paragraphs'][0]['qas'][0]"
   ]
  },
  {
   "cell_type": "code",
   "execution_count": 35,
   "metadata": {},
   "outputs": [],
   "source": [
    "question, answer = [], []\n",
    "for i in range(len(common_sense['data'])):\n",
    "    QandA = common_sense['data'][i]['paragraphs'][0]['qas'][0]\n",
    "    question.append(QandA['question'])\n",
    "    answer.append(QandA['answers'][0]['text'])"
   ]
  },
  {
   "cell_type": "code",
   "execution_count": 36,
   "metadata": {},
   "outputs": [],
   "source": [
    "Question, Answer = [], []\n",
    "for q in question:\n",
    "    q = re.sub('[^가-힣ㄱ-ㅎㅏ-ㅣa-zA-Z]', ' ', q)\n",
    "    Question.append(q.strip())\n",
    "for a in answer:\n",
    "    a = re.sub('[^가-힣ㄱ-ㅎㅏ-ㅣa-zA-Z]', ' ', a)\n",
    "    Answer.append(a.strip())"
   ]
  },
  {
   "cell_type": "code",
   "execution_count": 37,
   "metadata": {},
   "outputs": [
    {
     "data": {
      "text/plain": [
       "(68538, 68538)"
      ]
     },
     "execution_count": 37,
     "metadata": {},
     "output_type": "execute_result"
    }
   ],
   "source": [
    "len(Question), len(Answer)"
   ]
  },
  {
   "cell_type": "code",
   "execution_count": 38,
   "metadata": {},
   "outputs": [
    {
     "data": {
      "text/html": [
       "<div>\n",
       "<style scoped>\n",
       "    .dataframe tbody tr th:only-of-type {\n",
       "        vertical-align: middle;\n",
       "    }\n",
       "\n",
       "    .dataframe tbody tr th {\n",
       "        vertical-align: top;\n",
       "    }\n",
       "\n",
       "    .dataframe thead th {\n",
       "        text-align: right;\n",
       "    }\n",
       "</style>\n",
       "<table border=\"1\" class=\"dataframe\">\n",
       "  <thead>\n",
       "    <tr style=\"text-align: right;\">\n",
       "      <th></th>\n",
       "      <th>intent</th>\n",
       "      <th>question</th>\n",
       "      <th>answer</th>\n",
       "    </tr>\n",
       "  </thead>\n",
       "  <tbody>\n",
       "    <tr>\n",
       "      <th>0</th>\n",
       "      <td>일반상식</td>\n",
       "      <td>다테 기미코가 최초로 은퇴 선언을 한게 언제지</td>\n",
       "      <td>년  월   일</td>\n",
       "    </tr>\n",
       "    <tr>\n",
       "      <th>1</th>\n",
       "      <td>일반상식</td>\n",
       "      <td>ave new 본거지 어디야</td>\n",
       "      <td>도쿄 치요다구</td>\n",
       "    </tr>\n",
       "    <tr>\n",
       "      <th>2</th>\n",
       "      <td>일반상식</td>\n",
       "      <td>사카이 다다요시의 아버지가 누구지</td>\n",
       "      <td>사카이 나오타카</td>\n",
       "    </tr>\n",
       "    <tr>\n",
       "      <th>3</th>\n",
       "      <td>일반상식</td>\n",
       "      <td>일반성면의 면적이 얼마야</td>\n",
       "      <td>km</td>\n",
       "    </tr>\n",
       "    <tr>\n",
       "      <th>4</th>\n",
       "      <td>일반상식</td>\n",
       "      <td>금나라를 세운 사람이 누구야</td>\n",
       "      <td>태조 아구다</td>\n",
       "    </tr>\n",
       "  </tbody>\n",
       "</table>\n",
       "</div>"
      ],
      "text/plain": [
       "  intent                   question    answer\n",
       "0   일반상식  다테 기미코가 최초로 은퇴 선언을 한게 언제지  년  월   일\n",
       "1   일반상식            ave new 본거지 어디야   도쿄 치요다구\n",
       "2   일반상식         사카이 다다요시의 아버지가 누구지  사카이 나오타카\n",
       "3   일반상식              일반성면의 면적이 얼마야        km\n",
       "4   일반상식            금나라를 세운 사람이 누구야    태조 아구다"
      ]
     },
     "execution_count": 38,
     "metadata": {},
     "output_type": "execute_result"
    }
   ],
   "source": [
    "sense_df = pd.DataFrame({'intent': ['일반상식']*len(Question), 'question': Question, 'answer': Answer})\n",
    "sense_df.head()"
   ]
  },
  {
   "cell_type": "code",
   "execution_count": 39,
   "metadata": {},
   "outputs": [],
   "source": [
    "sense_df.to_csv('../data/수정데이터/일반상식 데이터.csv', index=False)"
   ]
  },
  {
   "attachments": {},
   "cell_type": "markdown",
   "metadata": {},
   "source": [
    "## 4. 여행 정보 데이터"
   ]
  },
  {
   "cell_type": "code",
   "execution_count": 41,
   "metadata": {},
   "outputs": [
    {
     "data": {
      "text/html": [
       "<div>\n",
       "<style scoped>\n",
       "    .dataframe tbody tr th:only-of-type {\n",
       "        vertical-align: middle;\n",
       "    }\n",
       "\n",
       "    .dataframe tbody tr th {\n",
       "        vertical-align: top;\n",
       "    }\n",
       "\n",
       "    .dataframe thead th {\n",
       "        text-align: right;\n",
       "    }\n",
       "</style>\n",
       "<table border=\"1\" class=\"dataframe\">\n",
       "  <thead>\n",
       "    <tr style=\"text-align: right;\">\n",
       "      <th></th>\n",
       "      <th>type</th>\n",
       "      <th>city</th>\n",
       "      <th>title</th>\n",
       "      <th>start date</th>\n",
       "      <th>start time</th>\n",
       "      <th>end date</th>\n",
       "      <th>place</th>\n",
       "    </tr>\n",
       "  </thead>\n",
       "  <tbody>\n",
       "    <tr>\n",
       "      <th>0</th>\n",
       "      <td>관광지</td>\n",
       "      <td>전라남도</td>\n",
       "      <td>‘봄의 왈츠’ 촬영지</td>\n",
       "      <td>NaN</td>\n",
       "      <td>NaN</td>\n",
       "      <td>NaN</td>\n",
       "      <td>전라남도 완도군 청산면 청산로 136</td>\n",
       "    </tr>\n",
       "    <tr>\n",
       "      <th>1</th>\n",
       "      <td>관광지</td>\n",
       "      <td>전라남도</td>\n",
       "      <td>‘서편제’ 촬영지</td>\n",
       "      <td>NaN</td>\n",
       "      <td>NaN</td>\n",
       "      <td>NaN</td>\n",
       "      <td>전라남도 완도군 청산면 당락리</td>\n",
       "    </tr>\n",
       "    <tr>\n",
       "      <th>2</th>\n",
       "      <td>관광지</td>\n",
       "      <td>강원도</td>\n",
       "      <td>㈜강원심층수</td>\n",
       "      <td>NaN</td>\n",
       "      <td>NaN</td>\n",
       "      <td>NaN</td>\n",
       "      <td>강원도 고성군 죽왕면 심층수길 124-19</td>\n",
       "    </tr>\n",
       "    <tr>\n",
       "      <th>3</th>\n",
       "      <td>관광지</td>\n",
       "      <td>강원도</td>\n",
       "      <td>㈜그래미 발명역사관</td>\n",
       "      <td>NaN</td>\n",
       "      <td>NaN</td>\n",
       "      <td>NaN</td>\n",
       "      <td>강원도 철원군 갈말읍 갈말로 32-30</td>\n",
       "    </tr>\n",
       "    <tr>\n",
       "      <th>4</th>\n",
       "      <td>관광지</td>\n",
       "      <td>제주도</td>\n",
       "      <td>㈜제주사랑 농수산</td>\n",
       "      <td>NaN</td>\n",
       "      <td>NaN</td>\n",
       "      <td>NaN</td>\n",
       "      <td>제주특별자치도 제주시 구좌읍 행원로13길 67</td>\n",
       "    </tr>\n",
       "  </tbody>\n",
       "</table>\n",
       "</div>"
      ],
      "text/plain": [
       "  type  city        title  start date  start time  end date  \\\n",
       "0  관광지  전라남도  ‘봄의 왈츠’ 촬영지         NaN         NaN       NaN   \n",
       "1  관광지  전라남도    ‘서편제’ 촬영지         NaN         NaN       NaN   \n",
       "2  관광지   강원도       ㈜강원심층수         NaN         NaN       NaN   \n",
       "3  관광지   강원도   ㈜그래미 발명역사관         NaN         NaN       NaN   \n",
       "4  관광지   제주도    ㈜제주사랑 농수산         NaN         NaN       NaN   \n",
       "\n",
       "                       place  \n",
       "0       전라남도 완도군 청산면 청산로 136  \n",
       "1           전라남도 완도군 청산면 당락리  \n",
       "2    강원도 고성군 죽왕면 심층수길 124-19  \n",
       "3      강원도 철원군 갈말읍 갈말로 32-30  \n",
       "4  제주특별자치도 제주시 구좌읍 행원로13길 67  "
      ]
     },
     "execution_count": 41,
     "metadata": {},
     "output_type": "execute_result"
    }
   ],
   "source": [
    "info_df = pd.read_excel('../data/원본데이터/여행 정보 데이터셋/ko_template.xlsx')\n",
    "info_df.head()"
   ]
  },
  {
   "cell_type": "code",
   "execution_count": 42,
   "metadata": {},
   "outputs": [
    {
     "data": {
      "text/plain": [
       "array(['관광지', '공연/행사', '축제'], dtype=object)"
      ]
     },
     "execution_count": 42,
     "metadata": {},
     "output_type": "execute_result"
    }
   ],
   "source": [
    "info_df['type'].unique()"
   ]
  },
  {
   "cell_type": "code",
   "execution_count": 43,
   "metadata": {},
   "outputs": [
    {
     "data": {
      "text/html": [
       "<div>\n",
       "<style scoped>\n",
       "    .dataframe tbody tr th:only-of-type {\n",
       "        vertical-align: middle;\n",
       "    }\n",
       "\n",
       "    .dataframe tbody tr th {\n",
       "        vertical-align: top;\n",
       "    }\n",
       "\n",
       "    .dataframe thead th {\n",
       "        text-align: right;\n",
       "    }\n",
       "</style>\n",
       "<table border=\"1\" class=\"dataframe\">\n",
       "  <thead>\n",
       "    <tr style=\"text-align: right;\">\n",
       "      <th></th>\n",
       "      <th>type</th>\n",
       "      <th>city</th>\n",
       "      <th>title</th>\n",
       "      <th>start date</th>\n",
       "      <th>start time</th>\n",
       "      <th>end date</th>\n",
       "      <th>place</th>\n",
       "      <th>label</th>\n",
       "    </tr>\n",
       "  </thead>\n",
       "  <tbody>\n",
       "    <tr>\n",
       "      <th>0</th>\n",
       "      <td>관광지</td>\n",
       "      <td>전라남도</td>\n",
       "      <td>‘봄의 왈츠’ 촬영지</td>\n",
       "      <td>NaN</td>\n",
       "      <td>NaN</td>\n",
       "      <td>NaN</td>\n",
       "      <td>전라남도 완도군 청산면 청산로 136</td>\n",
       "      <td>0</td>\n",
       "    </tr>\n",
       "    <tr>\n",
       "      <th>1</th>\n",
       "      <td>관광지</td>\n",
       "      <td>전라남도</td>\n",
       "      <td>‘서편제’ 촬영지</td>\n",
       "      <td>NaN</td>\n",
       "      <td>NaN</td>\n",
       "      <td>NaN</td>\n",
       "      <td>전라남도 완도군 청산면 당락리</td>\n",
       "      <td>0</td>\n",
       "    </tr>\n",
       "    <tr>\n",
       "      <th>2</th>\n",
       "      <td>관광지</td>\n",
       "      <td>강원도</td>\n",
       "      <td>㈜강원심층수</td>\n",
       "      <td>NaN</td>\n",
       "      <td>NaN</td>\n",
       "      <td>NaN</td>\n",
       "      <td>강원도 고성군 죽왕면 심층수길 124-19</td>\n",
       "      <td>0</td>\n",
       "    </tr>\n",
       "    <tr>\n",
       "      <th>3</th>\n",
       "      <td>관광지</td>\n",
       "      <td>강원도</td>\n",
       "      <td>㈜그래미 발명역사관</td>\n",
       "      <td>NaN</td>\n",
       "      <td>NaN</td>\n",
       "      <td>NaN</td>\n",
       "      <td>강원도 철원군 갈말읍 갈말로 32-30</td>\n",
       "      <td>0</td>\n",
       "    </tr>\n",
       "    <tr>\n",
       "      <th>4</th>\n",
       "      <td>관광지</td>\n",
       "      <td>제주도</td>\n",
       "      <td>㈜제주사랑 농수산</td>\n",
       "      <td>NaN</td>\n",
       "      <td>NaN</td>\n",
       "      <td>NaN</td>\n",
       "      <td>제주특별자치도 제주시 구좌읍 행원로13길 67</td>\n",
       "      <td>0</td>\n",
       "    </tr>\n",
       "  </tbody>\n",
       "</table>\n",
       "</div>"
      ],
      "text/plain": [
       "  type  city        title  start date  start time  end date  \\\n",
       "0  관광지  전라남도  ‘봄의 왈츠’ 촬영지         NaN         NaN       NaN   \n",
       "1  관광지  전라남도    ‘서편제’ 촬영지         NaN         NaN       NaN   \n",
       "2  관광지   강원도       ㈜강원심층수         NaN         NaN       NaN   \n",
       "3  관광지   강원도   ㈜그래미 발명역사관         NaN         NaN       NaN   \n",
       "4  관광지   제주도    ㈜제주사랑 농수산         NaN         NaN       NaN   \n",
       "\n",
       "                       place label  \n",
       "0       전라남도 완도군 청산면 청산로 136     0  \n",
       "1           전라남도 완도군 청산면 당락리     0  \n",
       "2    강원도 고성군 죽왕면 심층수길 124-19     0  \n",
       "3      강원도 철원군 갈말읍 갈말로 32-30     0  \n",
       "4  제주특별자치도 제주시 구좌읍 행원로13길 67     0  "
      ]
     },
     "execution_count": 43,
     "metadata": {},
     "output_type": "execute_result"
    }
   ],
   "source": [
    "info_df['label'] = info_df['type'].map(lambda x: '0' if x == '관광지' else '1')\n",
    "info_df.head()"
   ]
  },
  {
   "cell_type": "code",
   "execution_count": 44,
   "metadata": {},
   "outputs": [
    {
     "data": {
      "text/html": [
       "<div>\n",
       "<style scoped>\n",
       "    .dataframe tbody tr th:only-of-type {\n",
       "        vertical-align: middle;\n",
       "    }\n",
       "\n",
       "    .dataframe tbody tr th {\n",
       "        vertical-align: top;\n",
       "    }\n",
       "\n",
       "    .dataframe thead th {\n",
       "        text-align: right;\n",
       "    }\n",
       "</style>\n",
       "<table border=\"1\" class=\"dataframe\">\n",
       "  <thead>\n",
       "    <tr style=\"text-align: right;\">\n",
       "      <th></th>\n",
       "      <th>city</th>\n",
       "      <th>title</th>\n",
       "      <th>place</th>\n",
       "      <th>label</th>\n",
       "    </tr>\n",
       "  </thead>\n",
       "  <tbody>\n",
       "    <tr>\n",
       "      <th>11395</th>\n",
       "      <td>경상북도</td>\n",
       "      <td>LG드림페스티벌 2017</td>\n",
       "      <td>경상북도 구미시 박정희로 375-22</td>\n",
       "      <td>1</td>\n",
       "    </tr>\n",
       "    <tr>\n",
       "      <th>11396</th>\n",
       "      <td>서울</td>\n",
       "      <td>Lifeplus 벚꽃피크닉페스티벌 2018</td>\n",
       "      <td>서울특별시 영등포구 63로 50</td>\n",
       "      <td>1</td>\n",
       "    </tr>\n",
       "    <tr>\n",
       "      <th>11397</th>\n",
       "      <td>경기도</td>\n",
       "      <td>SW교육 페스티벌 2017</td>\n",
       "      <td>경기도 고양시 일산서구 킨텍스로 217-60</td>\n",
       "      <td>1</td>\n",
       "    </tr>\n",
       "    <tr>\n",
       "      <th>11398</th>\n",
       "      <td>서울</td>\n",
       "      <td>What We Wear:왓위웨어 2017</td>\n",
       "      <td>서울특별시 중구 을지로 281</td>\n",
       "      <td>1</td>\n",
       "    </tr>\n",
       "    <tr>\n",
       "      <th>11399</th>\n",
       "      <td>서울</td>\n",
       "      <td>[어디나 책, 누구나 책] 책의 해, 세계 책과 저작권의 날 2018</td>\n",
       "      <td>서울특별시 종로구 세종대로 172</td>\n",
       "      <td>1</td>\n",
       "    </tr>\n",
       "  </tbody>\n",
       "</table>\n",
       "</div>"
      ],
      "text/plain": [
       "       city                                   title                     place  \\\n",
       "11395  경상북도                           LG드림페스티벌 2017      경상북도 구미시 박정희로 375-22   \n",
       "11396    서울                 Lifeplus 벚꽃피크닉페스티벌 2018         서울특별시 영등포구 63로 50   \n",
       "11397   경기도                          SW교육 페스티벌 2017  경기도 고양시 일산서구 킨텍스로 217-60   \n",
       "11398    서울                  What We Wear:왓위웨어 2017          서울특별시 중구 을지로 281   \n",
       "11399    서울  [어디나 책, 누구나 책] 책의 해, 세계 책과 저작권의 날 2018        서울특별시 종로구 세종대로 172   \n",
       "\n",
       "      label  \n",
       "11395     1  \n",
       "11396     1  \n",
       "11397     1  \n",
       "11398     1  \n",
       "11399     1  "
      ]
     },
     "execution_count": 44,
     "metadata": {},
     "output_type": "execute_result"
    }
   ],
   "source": [
    "# 관광지: 0, 공연/행사, 축제: 1\n",
    "info_df = info_df[info_df.columns[[1, 2, -2, -1]]]\n",
    "info_df.tail()"
   ]
  },
  {
   "cell_type": "code",
   "execution_count": 45,
   "metadata": {},
   "outputs": [
    {
     "data": {
      "text/plain": [
       "(11400, 11400)"
      ]
     },
     "execution_count": 45,
     "metadata": {},
     "output_type": "execute_result"
    }
   ],
   "source": [
    "len(info_df['city']), len(info_df['title'])"
   ]
  },
  {
   "cell_type": "code",
   "execution_count": 46,
   "metadata": {},
   "outputs": [],
   "source": [
    "info_df['sigungu'] = info_df[' place'].str.split(' ').str[1]"
   ]
  },
  {
   "cell_type": "code",
   "execution_count": 48,
   "metadata": {},
   "outputs": [],
   "source": [
    "info_df['title'] = info_df['title'].apply(lambda x: re.sub('[^가-힣ㄱ-ㅎㅏ-ㅣa-zA-Z]', ' ', x))"
   ]
  },
  {
   "cell_type": "code",
   "execution_count": 49,
   "metadata": {},
   "outputs": [],
   "source": [
    "info_df = info_df[['city', 'sigungu', 'title', 'label']]"
   ]
  },
  {
   "cell_type": "code",
   "execution_count": 50,
   "metadata": {},
   "outputs": [],
   "source": [
    "info_df.to_csv('../data/수정데이터/여행정보 데이터.csv', index=False)"
   ]
  },
  {
   "attachments": {},
   "cell_type": "markdown",
   "metadata": {},
   "source": [
    "## 5. 네이버 지식인 여행지추천 데이터"
   ]
  },
  {
   "cell_type": "code",
   "execution_count": null,
   "metadata": {},
   "outputs": [],
   "source": [
    "url = 'https://kin.naver.com/'\n",
    "driver = webdriver.Chrome()\n",
    "driver.get(url)\n",
    "time.sleep(1)"
   ]
  },
  {
   "cell_type": "code",
   "execution_count": null,
   "metadata": {},
   "outputs": [],
   "source": [
    "driver.find_element(By.CLASS_NAME, 'ico_close_layer').click()\n",
    "time.sleep(0.5)\n",
    "driver.find_element(By.TAG_NAME, 'input').send_keys('국내 여행지 추천')\n",
    "driver.find_element(By.CLASS_NAME, 'search_btn').click()"
   ]
  },
  {
   "cell_type": "code",
   "execution_count": null,
   "metadata": {},
   "outputs": [],
   "source": [
    "title = []\n",
    "question = []\n",
    "answer = []"
   ]
  },
  {
   "cell_type": "code",
   "execution_count": null,
   "metadata": {},
   "outputs": [],
   "source": [
    "for k in range(10):\n",
    "    for j in range(1, len(driver.find_element(By.CLASS_NAME, 's_paging').find_elements(By.TAG_NAME, 'a'))):\n",
    "        for i in range(len(driver.find_elements(By.CLASS_NAME, '_searchListTitleAnchor'))):\n",
    "            driver.find_elements(By.CLASS_NAME, '_searchListTitleAnchor')[i].click()\n",
    "            time.sleep(1)\n",
    "            driver.switch_to.window(driver.window_handles[-1])\n",
    "            title.append(driver.find_element(By.CLASS_NAME, 'title').text)\n",
    "            try:\n",
    "                question.append(driver.find_element(By.CLASS_NAME, 'c-heading__content').text)\n",
    "            except:\n",
    "                question.append('')\n",
    "            answer.append(driver.find_element(By.CLASS_NAME, 'c-heading-answer__content').text)\n",
    "            driver.close()\n",
    "            driver.switch_to.window(driver.window_handles[0])\n",
    "        driver.find_element(By.CLASS_NAME, 's_paging').find_elements(By.TAG_NAME, 'a')[j].click()\n",
    "        time.sleep(1)"
   ]
  },
  {
   "cell_type": "code",
   "execution_count": null,
   "metadata": {},
   "outputs": [],
   "source": [
    "recom_df = pd.DataFrame({'title': title, 'question': question, 'answer': answer})"
   ]
  },
  {
   "cell_type": "code",
   "execution_count": null,
   "metadata": {},
   "outputs": [],
   "source": [
    "recom_df.to_csv('../data/원본데이터/여행지추천 데이터.csv', index=False)"
   ]
  },
  {
   "cell_type": "code",
   "execution_count": 37,
   "metadata": {},
   "outputs": [
    {
     "data": {
      "text/html": [
       "<div>\n",
       "<style scoped>\n",
       "    .dataframe tbody tr th:only-of-type {\n",
       "        vertical-align: middle;\n",
       "    }\n",
       "\n",
       "    .dataframe tbody tr th {\n",
       "        vertical-align: top;\n",
       "    }\n",
       "\n",
       "    .dataframe thead th {\n",
       "        text-align: right;\n",
       "    }\n",
       "</style>\n",
       "<table border=\"1\" class=\"dataframe\">\n",
       "  <thead>\n",
       "    <tr style=\"text-align: right;\">\n",
       "      <th></th>\n",
       "      <th>title</th>\n",
       "      <th>question</th>\n",
       "      <th>answer</th>\n",
       "    </tr>\n",
       "  </thead>\n",
       "  <tbody>\n",
       "    <tr>\n",
       "      <th>0</th>\n",
       "      <td>4월29일~30일 국내여행지 추천</td>\n",
       "      <td>와이프랑 아들이랑 1박2일로\\n경상도나 전라도로 여행을 갈려고합니다.\\n숙소와 여행...</td>\n",
       "      <td>안녕하세요.\\n질문하신 [국내여행지] 관련 답변 드리도록 하겠습니다.\\n1박2일간 ...</td>\n",
       "    </tr>\n",
       "    <tr>\n",
       "      <th>1</th>\n",
       "      <td>20대 남자 3명 2박3일로 국내여행지 추천</td>\n",
       "      <td>20대 남자 3명 2박3일로 여행 갈만한 국내 여행지 자세하게 추천해주세요... \\...</td>\n",
       "      <td>아무래도 남자 3명이서 여행은 바다와 술 이렇게 두개면 되지않겟습니까\\n저는 강릉 ...</td>\n",
       "    </tr>\n",
       "    <tr>\n",
       "      <th>2</th>\n",
       "      <td>남자친구랑 300일 국내 여행지 추천</td>\n",
       "      <td>남자친구랑 9월 중순쯤에 300일 되서\\n1박 2일로 놀러가려 하는데 서울에서 가까...</td>\n",
       "      <td>서울에서 가까운곳은 인천 가평 남양주 등이 있습니다.\\n인천 가평 남양주 가볼만한곳...</td>\n",
       "    </tr>\n",
       "    <tr>\n",
       "      <th>3</th>\n",
       "      <td>국내여행지 추천해주세요</td>\n",
       "      <td>국내 여행지 추천해주세요!\\n차가없고 비행기나,기차나,버스로 다녀야할것같은데\\n괜찮...</td>\n",
       "      <td>일단 가는곳도 교통이 좋아야 될것같죠. 대중교통이 좋은곳으로 가는게 도움이 될듯하구...</td>\n",
       "    </tr>\n",
       "    <tr>\n",
       "      <th>4</th>\n",
       "      <td>국내여행지 추천</td>\n",
       "      <td>4월말쯤 1박2일로 친구랑 여행갈까 생각중인데 갈만한 국내여행지 몇군데 추천해주세요...</td>\n",
       "      <td>안녕하세요! 2명의 여고생 친구분들과 함께 안전하면서도 즐길 수 있는 국내 여행지를...</td>\n",
       "    </tr>\n",
       "  </tbody>\n",
       "</table>\n",
       "</div>"
      ],
      "text/plain": [
       "                      title  \\\n",
       "0        4월29일~30일 국내여행지 추천   \n",
       "1  20대 남자 3명 2박3일로 국내여행지 추천   \n",
       "2      남자친구랑 300일 국내 여행지 추천   \n",
       "3              국내여행지 추천해주세요   \n",
       "4                  국내여행지 추천   \n",
       "\n",
       "                                            question  \\\n",
       "0  와이프랑 아들이랑 1박2일로\\n경상도나 전라도로 여행을 갈려고합니다.\\n숙소와 여행...   \n",
       "1  20대 남자 3명 2박3일로 여행 갈만한 국내 여행지 자세하게 추천해주세요... \\...   \n",
       "2  남자친구랑 9월 중순쯤에 300일 되서\\n1박 2일로 놀러가려 하는데 서울에서 가까...   \n",
       "3  국내 여행지 추천해주세요!\\n차가없고 비행기나,기차나,버스로 다녀야할것같은데\\n괜찮...   \n",
       "4  4월말쯤 1박2일로 친구랑 여행갈까 생각중인데 갈만한 국내여행지 몇군데 추천해주세요...   \n",
       "\n",
       "                                              answer  \n",
       "0  안녕하세요.\\n질문하신 [국내여행지] 관련 답변 드리도록 하겠습니다.\\n1박2일간 ...  \n",
       "1  아무래도 남자 3명이서 여행은 바다와 술 이렇게 두개면 되지않겟습니까\\n저는 강릉 ...  \n",
       "2  서울에서 가까운곳은 인천 가평 남양주 등이 있습니다.\\n인천 가평 남양주 가볼만한곳...  \n",
       "3  일단 가는곳도 교통이 좋아야 될것같죠. 대중교통이 좋은곳으로 가는게 도움이 될듯하구...  \n",
       "4  안녕하세요! 2명의 여고생 친구분들과 함께 안전하면서도 즐길 수 있는 국내 여행지를...  "
      ]
     },
     "execution_count": 37,
     "metadata": {},
     "output_type": "execute_result"
    }
   ],
   "source": [
    "recom_df = pd.read_csv('../data/원본데이터/여행지추천 데이터.csv')\n",
    "recom_df.head()"
   ]
  },
  {
   "cell_type": "code",
   "execution_count": 38,
   "metadata": {},
   "outputs": [],
   "source": [
    "recom_df.drop(columns='title', inplace=True)"
   ]
  },
  {
   "cell_type": "code",
   "execution_count": 45,
   "metadata": {},
   "outputs": [],
   "source": [
    "recom_df.dropna(inplace=True)"
   ]
  },
  {
   "cell_type": "code",
   "execution_count": 46,
   "metadata": {},
   "outputs": [
    {
     "data": {
      "text/plain": [
       "(980, 980)"
      ]
     },
     "execution_count": 46,
     "metadata": {},
     "output_type": "execute_result"
    }
   ],
   "source": [
    "questions = list(recom_df['question'])\n",
    "answers = list(recom_df['answer'])\n",
    "\n",
    "question, answer = [], []\n",
    "for q in questions:\n",
    "    q = re.sub('[^가-힣ㄱ-ㅎㅏ-ㅣa-zA-Z]', ' ', q)\n",
    "    question.append(q.strip())\n",
    "\n",
    "for a in answers:\n",
    "    a = re.sub('[^가-힣ㄱ-ㅎㅏ-ㅣa-zA-Z]', ' ', a)\n",
    "    answer.append(a.strip())\n",
    "\n",
    "len(question), len(answer)"
   ]
  },
  {
   "cell_type": "code",
   "execution_count": 47,
   "metadata": {},
   "outputs": [
    {
     "data": {
      "text/html": [
       "<div>\n",
       "<style scoped>\n",
       "    .dataframe tbody tr th:only-of-type {\n",
       "        vertical-align: middle;\n",
       "    }\n",
       "\n",
       "    .dataframe tbody tr th {\n",
       "        vertical-align: top;\n",
       "    }\n",
       "\n",
       "    .dataframe thead th {\n",
       "        text-align: right;\n",
       "    }\n",
       "</style>\n",
       "<table border=\"1\" class=\"dataframe\">\n",
       "  <thead>\n",
       "    <tr style=\"text-align: right;\">\n",
       "      <th></th>\n",
       "      <th>question</th>\n",
       "      <th>answer</th>\n",
       "    </tr>\n",
       "  </thead>\n",
       "  <tbody>\n",
       "    <tr>\n",
       "      <th>0</th>\n",
       "      <td>와이프랑 아들이랑  박 일로 경상도나 전라도로 여행을 갈려고합니다  숙소와 여행코스...</td>\n",
       "      <td>안녕하세요  질문하신  국내여행지  관련 답변 드리도록 하겠습니다   박 일간 다녀...</td>\n",
       "    </tr>\n",
       "    <tr>\n",
       "      <th>1</th>\n",
       "      <td>대 남자  명  박 일로 여행 갈만한 국내 여행지 자세하게 추천해주세요     참고...</td>\n",
       "      <td>아무래도 남자  명이서 여행은 바다와 술 이렇게 두개면 되지않겟습니까 저는 강릉 추...</td>\n",
       "    </tr>\n",
       "    <tr>\n",
       "      <th>2</th>\n",
       "      <td>남자친구랑  월 중순쯤에    일 되서  박  일로 놀러가려 하는데 서울에서 가까운...</td>\n",
       "      <td>서울에서 가까운곳은 인천 가평 남양주 등이 있습니다  인천 가평 남양주 가볼만한곳 ...</td>\n",
       "    </tr>\n",
       "    <tr>\n",
       "      <th>3</th>\n",
       "      <td>국내 여행지 추천해주세요  차가없고 비행기나 기차나 버스로 다녀야할것같은데 괜찮은 ...</td>\n",
       "      <td>일단 가는곳도 교통이 좋아야 될것같죠  대중교통이 좋은곳으로 가는게 도움이 될듯하구...</td>\n",
       "    </tr>\n",
       "    <tr>\n",
       "      <th>4</th>\n",
       "      <td>월말쯤  박 일로 친구랑 여행갈까 생각중인데 갈만한 국내여행지 몇군데 추천해주세요 ...</td>\n",
       "      <td>안녕하세요   명의 여고생 친구분들과 함께 안전하면서도 즐길 수 있는 국내 여행지를...</td>\n",
       "    </tr>\n",
       "  </tbody>\n",
       "</table>\n",
       "</div>"
      ],
      "text/plain": [
       "                                            question  \\\n",
       "0  와이프랑 아들이랑  박 일로 경상도나 전라도로 여행을 갈려고합니다  숙소와 여행코스...   \n",
       "1  대 남자  명  박 일로 여행 갈만한 국내 여행지 자세하게 추천해주세요     참고...   \n",
       "2  남자친구랑  월 중순쯤에    일 되서  박  일로 놀러가려 하는데 서울에서 가까운...   \n",
       "3  국내 여행지 추천해주세요  차가없고 비행기나 기차나 버스로 다녀야할것같은데 괜찮은 ...   \n",
       "4  월말쯤  박 일로 친구랑 여행갈까 생각중인데 갈만한 국내여행지 몇군데 추천해주세요 ...   \n",
       "\n",
       "                                              answer  \n",
       "0  안녕하세요  질문하신  국내여행지  관련 답변 드리도록 하겠습니다   박 일간 다녀...  \n",
       "1  아무래도 남자  명이서 여행은 바다와 술 이렇게 두개면 되지않겟습니까 저는 강릉 추...  \n",
       "2  서울에서 가까운곳은 인천 가평 남양주 등이 있습니다  인천 가평 남양주 가볼만한곳 ...  \n",
       "3  일단 가는곳도 교통이 좋아야 될것같죠  대중교통이 좋은곳으로 가는게 도움이 될듯하구...  \n",
       "4  안녕하세요   명의 여고생 친구분들과 함께 안전하면서도 즐길 수 있는 국내 여행지를...  "
      ]
     },
     "execution_count": 47,
     "metadata": {},
     "output_type": "execute_result"
    }
   ],
   "source": [
    "recom_df = pd.DataFrame({'question': question, 'answer': answer})\n",
    "recom_df.head()"
   ]
  },
  {
   "cell_type": "code",
   "execution_count": 48,
   "metadata": {},
   "outputs": [],
   "source": [
    "recom_df.to_csv('../data/수정데이터/여행지추천 데이터.csv', index=False)"
   ]
  },
  {
   "cell_type": "code",
   "execution_count": null,
   "metadata": {},
   "outputs": [],
   "source": []
  }
 ],
 "metadata": {
  "kernelspec": {
   "display_name": "base",
   "language": "python",
   "name": "python3"
  },
  "language_info": {
   "codemirror_mode": {
    "name": "ipython",
    "version": 3
   },
   "file_extension": ".py",
   "mimetype": "text/x-python",
   "name": "python",
   "nbconvert_exporter": "python",
   "pygments_lexer": "ipython3",
   "version": "3.9.13"
  },
  "orig_nbformat": 4
 },
 "nbformat": 4,
 "nbformat_minor": 2
}
