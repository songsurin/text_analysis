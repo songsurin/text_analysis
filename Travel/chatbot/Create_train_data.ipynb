{
 "cells": [
  {
   "attachments": {},
   "cell_type": "markdown",
   "metadata": {},
   "source": [
    "## 1. 데이터 로드"
   ]
  },
  {
   "cell_type": "code",
   "execution_count": 1,
   "metadata": {},
   "outputs": [],
   "source": [
    "import pandas as pd\n",
    "import numpy as np\n",
    "from konlpy.tag import Komoran\n",
    "import re"
   ]
  },
  {
   "cell_type": "code",
   "execution_count": 2,
   "metadata": {},
   "outputs": [],
   "source": [
    "purpose = pd.read_csv(\"../data/수정데이터/용도별 목적대화 데이터.csv\")\n",
    "topic = pd.read_csv(\"../data/수정데이터/주제별 텍스트 일상 대화 데이터.csv\")\n",
    "sense = pd.read_csv(\"../data/수정데이터/일반상식 데이터.csv\")\n",
    "travelinfo = pd.read_csv(\"../data/수정데이터/여행정보 데이터.csv\")\n",
    "recommend = pd.read_csv(\"../data/수정데이터/여행지추천 데이터.csv\")\n",
    "\n",
    "purpose.dropna(inplace=True)\n",
    "topic.dropna(inplace=True)\n",
    "sense.dropna(inplace=True)\n",
    "travelinfo.dropna(inplace=True)\n",
    "recommend.dropna(inplace=True)"
   ]
  },
  {
   "cell_type": "code",
   "execution_count": 3,
   "metadata": {},
   "outputs": [
    {
     "name": "stdout",
     "output_type": "stream",
     "text": [
      "purpose shape: (225974, 1)\n",
      "topic shape: (870138, 1)\n",
      "sense shape: (68538, 3)\n",
      "info shape: (11375, 4)\n",
      "recommend shape: (980, 2)\n"
     ]
    }
   ],
   "source": [
    "print(f'purpose shape: {purpose.shape}')\n",
    "print(f'topic shape: {topic.shape}')\n",
    "print(f'sense shape: {sense.shape}')\n",
    "print(f'info shape: {travelinfo.shape}')\n",
    "print(f'recommend shape: {recommend.shape}')"
   ]
  },
  {
   "cell_type": "code",
   "execution_count": 4,
   "metadata": {},
   "outputs": [
    {
     "name": "stdout",
     "output_type": "stream",
     "text": [
      "Index(['text'], dtype='object')\n",
      "Index(['text'], dtype='object')\n",
      "Index(['intent', 'question', 'answer'], dtype='object')\n",
      "Index(['city', 'sigungu', 'title', 'label'], dtype='object')\n",
      "Index(['question', 'answer'], dtype='object')\n"
     ]
    }
   ],
   "source": [
    "print(purpose.columns)\n",
    "print(topic.columns)\n",
    "print(sense.columns)\n",
    "print(travelinfo.columns)\n",
    "print(recommend.columns)"
   ]
  },
  {
   "cell_type": "code",
   "execution_count": 5,
   "metadata": {},
   "outputs": [],
   "source": [
    "total_data = list(purpose['text']) + list(topic['text']) + list(sense['question']) + list(sense['answer']) + \\\n",
    "            list(travelinfo['city']) + list(travelinfo['title']) + list(recommend['question']) + list(recommend['answer'])"
   ]
  },
  {
   "cell_type": "code",
   "execution_count": 6,
   "metadata": {},
   "outputs": [
    {
     "data": {
      "text/plain": [
       "1257898"
      ]
     },
     "execution_count": 6,
     "metadata": {},
     "output_type": "execute_result"
    }
   ],
   "source": [
    "len(total_data)"
   ]
  },
  {
   "cell_type": "code",
   "execution_count": 7,
   "metadata": {},
   "outputs": [],
   "source": [
    "df = pd.DataFrame({'text': total_data})\n",
    "df.to_csv('../data/수정데이터/통합데이터.csv', index=False)"
   ]
  },
  {
   "attachments": {},
   "cell_type": "markdown",
   "metadata": {},
   "source": [
    "## 2. 의도 분류 데이터 생성\n",
    "* 0: 추천\n",
    "* 1: 예약\n",
    "* 2: 정보\n",
    "* 3: 기타\n",
    "* 4: nan"
   ]
  },
  {
   "cell_type": "code",
   "execution_count": 8,
   "metadata": {},
   "outputs": [],
   "source": [
    "df = pd.read_csv('../data/수정데이터/맞춤법수정데이터.csv')\n",
    "total_data = df['text']"
   ]
  },
  {
   "cell_type": "code",
   "execution_count": 12,
   "metadata": {},
   "outputs": [],
   "source": [
    "city = travelinfo['city'].unique().tolist() + travelinfo['sigungu'].str[:-1].unique().tolist()"
   ]
  },
  {
   "cell_type": "code",
   "execution_count": 13,
   "metadata": {},
   "outputs": [],
   "source": [
    "city += ['전남', '경남', '충북', '전북', '경북', '충남', '세종']"
   ]
  },
  {
   "cell_type": "code",
   "execution_count": 14,
   "metadata": {},
   "outputs": [],
   "source": [
    "reco = []\n",
    "apo = []\n",
    "info = []\n",
    "etc = []\n",
    "nan = []"
   ]
  },
  {
   "cell_type": "code",
   "execution_count": 15,
   "metadata": {},
   "outputs": [],
   "source": [
    "for data in total_data:\n",
    "    reco_keywords = ['곳', '어디', '결혼', '여행', '추천', '맛집', '관광', '여행지', '지역', '국내', '갈만'] + city\n",
    "    apo_keywords = ['이름', '고객님', '시간', '예약', '본인', '입금', '렌트', '숙소', '호텔', '모텔', '오두막', '일정', '체크인', '숙박', '환불', '펜션', '캠핑', '풀빌라']\n",
    "    info_keywords = ['상품', '전화', '번호', '연락', '안내', '문의', '방법', '주소', '접수', '전번', '정보', '축제', '행사', '놀', '놀거리', '박람회', '아쿠아리움', '명소']\n",
    "    try:\n",
    "        if any(keyword in data for keyword in reco_keywords):\n",
    "            reco.append(data)\n",
    "        elif any(keyword in data for keyword in apo_keywords):\n",
    "            apo.append(data)\n",
    "        elif any(keyword in data for keyword in info_keywords):\n",
    "            info.append(data)\n",
    "        else:\n",
    "            etc.append(data)\n",
    "    except:\n",
    "        nan.append(data)"
   ]
  },
  {
   "cell_type": "code",
   "execution_count": 16,
   "metadata": {},
   "outputs": [
    {
     "data": {
      "text/html": [
       "<div>\n",
       "<style scoped>\n",
       "    .dataframe tbody tr th:only-of-type {\n",
       "        vertical-align: middle;\n",
       "    }\n",
       "\n",
       "    .dataframe tbody tr th {\n",
       "        vertical-align: top;\n",
       "    }\n",
       "\n",
       "    .dataframe thead th {\n",
       "        text-align: right;\n",
       "    }\n",
       "</style>\n",
       "<table border=\"1\" class=\"dataframe\">\n",
       "  <thead>\n",
       "    <tr style=\"text-align: right;\">\n",
       "      <th></th>\n",
       "      <th>text</th>\n",
       "      <th>label</th>\n",
       "    </tr>\n",
       "  </thead>\n",
       "  <tbody>\n",
       "    <tr>\n",
       "      <th>0</th>\n",
       "      <td>안내해 주신 방법을 시도해 봤는데 안 돼서요</td>\n",
       "      <td>0</td>\n",
       "    </tr>\n",
       "    <tr>\n",
       "      <th>1</th>\n",
       "      <td>휴대폰하고 신분증 챙기셔서 저희 서비스센터 쪽으로 방문하셔야 되세요 고객님</td>\n",
       "      <td>0</td>\n",
       "    </tr>\n",
       "    <tr>\n",
       "      <th>2</th>\n",
       "      <td>일단 고객님 고객님께서 설정하신 걸 입력하셨는데도 안 되신다면요</td>\n",
       "      <td>0</td>\n",
       "    </tr>\n",
       "    <tr>\n",
       "      <th>3</th>\n",
       "      <td>저희가 부산 해운대구에는   주소에 있는 센터가 있고요</td>\n",
       "      <td>0</td>\n",
       "    </tr>\n",
       "    <tr>\n",
       "      <th>4</th>\n",
       "      <td>저희 서비스센터로 오시면 됩니다 고객님</td>\n",
       "      <td>0</td>\n",
       "    </tr>\n",
       "  </tbody>\n",
       "</table>\n",
       "</div>"
      ],
      "text/plain": [
       "                                        text  label\n",
       "0                   안내해 주신 방법을 시도해 봤는데 안 돼서요      0\n",
       "1  휴대폰하고 신분증 챙기셔서 저희 서비스센터 쪽으로 방문하셔야 되세요 고객님      0\n",
       "2        일단 고객님 고객님께서 설정하신 걸 입력하셨는데도 안 되신다면요      0\n",
       "3             저희가 부산 해운대구에는   주소에 있는 센터가 있고요      0\n",
       "4                      저희 서비스센터로 오시면 됩니다 고객님      0"
      ]
     },
     "execution_count": 16,
     "metadata": {},
     "output_type": "execute_result"
    }
   ],
   "source": [
    "reco_df = pd.DataFrame({'text': reco})\n",
    "reco_df['label'] = 0\n",
    "reco_df.head()"
   ]
  },
  {
   "cell_type": "code",
   "execution_count": 17,
   "metadata": {},
   "outputs": [
    {
     "data": {
      "text/html": [
       "<div>\n",
       "<style scoped>\n",
       "    .dataframe tbody tr th:only-of-type {\n",
       "        vertical-align: middle;\n",
       "    }\n",
       "\n",
       "    .dataframe tbody tr th {\n",
       "        vertical-align: top;\n",
       "    }\n",
       "\n",
       "    .dataframe thead th {\n",
       "        text-align: right;\n",
       "    }\n",
       "</style>\n",
       "<table border=\"1\" class=\"dataframe\">\n",
       "  <thead>\n",
       "    <tr style=\"text-align: right;\">\n",
       "      <th></th>\n",
       "      <th>text</th>\n",
       "      <th>label</th>\n",
       "    </tr>\n",
       "  </thead>\n",
       "  <tbody>\n",
       "    <tr>\n",
       "      <th>61908</th>\n",
       "      <td>화진포 오토캠핑장</td>\n",
       "      <td>1</td>\n",
       "    </tr>\n",
       "    <tr>\n",
       "      <th>61909</th>\n",
       "      <td>황둔에 오토캠핑장</td>\n",
       "      <td>1</td>\n",
       "    </tr>\n",
       "    <tr>\n",
       "      <th>61910</th>\n",
       "      <td>휴가를 부탁해 캠핑장</td>\n",
       "      <td>1</td>\n",
       "    </tr>\n",
       "    <tr>\n",
       "      <th>61911</th>\n",
       "      <td>세계유교문화 축전 캠핑축제 2017</td>\n",
       "      <td>1</td>\n",
       "    </tr>\n",
       "    <tr>\n",
       "      <th>61912</th>\n",
       "      <td>오크밸리 캠핑 페스티벌 2017</td>\n",
       "      <td>1</td>\n",
       "    </tr>\n",
       "  </tbody>\n",
       "</table>\n",
       "</div>"
      ],
      "text/plain": [
       "                      text  label\n",
       "61908            화진포 오토캠핑장      1\n",
       "61909            황둔에 오토캠핑장      1\n",
       "61910          휴가를 부탁해 캠핑장      1\n",
       "61911  세계유교문화 축전 캠핑축제 2017      1\n",
       "61912    오크밸리 캠핑 페스티벌 2017      1"
      ]
     },
     "execution_count": 17,
     "metadata": {},
     "output_type": "execute_result"
    }
   ],
   "source": [
    "apo_df = pd.DataFrame({'text': apo})\n",
    "apo_df['label'] = 1\n",
    "apo_df.tail()"
   ]
  },
  {
   "cell_type": "code",
   "execution_count": 18,
   "metadata": {},
   "outputs": [
    {
     "data": {
      "text/html": [
       "<div>\n",
       "<style scoped>\n",
       "    .dataframe tbody tr th:only-of-type {\n",
       "        vertical-align: middle;\n",
       "    }\n",
       "\n",
       "    .dataframe tbody tr th {\n",
       "        vertical-align: top;\n",
       "    }\n",
       "\n",
       "    .dataframe thead th {\n",
       "        text-align: right;\n",
       "    }\n",
       "</style>\n",
       "<table border=\"1\" class=\"dataframe\">\n",
       "  <thead>\n",
       "    <tr style=\"text-align: right;\">\n",
       "      <th></th>\n",
       "      <th>text</th>\n",
       "      <th>label</th>\n",
       "    </tr>\n",
       "  </thead>\n",
       "  <tbody>\n",
       "    <tr>\n",
       "      <th>42339</th>\n",
       "      <td>DGIST 세계 명문 대학 조정 축제 2017</td>\n",
       "      <td>2</td>\n",
       "    </tr>\n",
       "    <tr>\n",
       "      <th>42340</th>\n",
       "      <td>DMZ 펀치볼 시래기축제 2018</td>\n",
       "      <td>2</td>\n",
       "    </tr>\n",
       "    <tr>\n",
       "      <th>42341</th>\n",
       "      <td>Hello! 과학마을축제 2017</td>\n",
       "      <td>2</td>\n",
       "    </tr>\n",
       "    <tr>\n",
       "      <th>42342</th>\n",
       "      <td>JDC 지구촌 문화축제 2017</td>\n",
       "      <td>2</td>\n",
       "    </tr>\n",
       "    <tr>\n",
       "      <th>42343</th>\n",
       "      <td>KF 청계천 음악 축제 2017</td>\n",
       "      <td>2</td>\n",
       "    </tr>\n",
       "  </tbody>\n",
       "</table>\n",
       "</div>"
      ],
      "text/plain": [
       "                            text  label\n",
       "42339  DGIST 세계 명문 대학 조정 축제 2017      2\n",
       "42340         DMZ 펀치볼 시래기축제 2018      2\n",
       "42341         Hello! 과학마을축제 2017      2\n",
       "42342          JDC 지구촌 문화축제 2017      2\n",
       "42343          KF 청계천 음악 축제 2017      2"
      ]
     },
     "execution_count": 18,
     "metadata": {},
     "output_type": "execute_result"
    }
   ],
   "source": [
    "info_df = pd.DataFrame({'text': info})\n",
    "info_df['label'] = 2\n",
    "info_df.tail()"
   ]
  },
  {
   "cell_type": "code",
   "execution_count": 19,
   "metadata": {},
   "outputs": [
    {
     "data": {
      "text/html": [
       "<div>\n",
       "<style scoped>\n",
       "    .dataframe tbody tr th:only-of-type {\n",
       "        vertical-align: middle;\n",
       "    }\n",
       "\n",
       "    .dataframe tbody tr th {\n",
       "        vertical-align: top;\n",
       "    }\n",
       "\n",
       "    .dataframe thead th {\n",
       "        text-align: right;\n",
       "    }\n",
       "</style>\n",
       "<table border=\"1\" class=\"dataframe\">\n",
       "  <thead>\n",
       "    <tr style=\"text-align: right;\">\n",
       "      <th></th>\n",
       "      <th>text</th>\n",
       "      <th>label</th>\n",
       "    </tr>\n",
       "  </thead>\n",
       "  <tbody>\n",
       "    <tr>\n",
       "      <th>794865</th>\n",
       "      <td>G-STAR G-LAND FESTIVAL 2017</td>\n",
       "      <td>3</td>\n",
       "    </tr>\n",
       "    <tr>\n",
       "      <th>794866</th>\n",
       "      <td>LG 드림페스티벌 2017</td>\n",
       "      <td>3</td>\n",
       "    </tr>\n",
       "    <tr>\n",
       "      <th>794867</th>\n",
       "      <td>Lifeplus 벚꽃 피크닉 페스티벌 2018</td>\n",
       "      <td>3</td>\n",
       "    </tr>\n",
       "    <tr>\n",
       "      <th>794868</th>\n",
       "      <td>SW 교육 페스티벌 2017</td>\n",
       "      <td>3</td>\n",
       "    </tr>\n",
       "    <tr>\n",
       "      <th>794869</th>\n",
       "      <td>What We Wear:왓 위 웨어 2017</td>\n",
       "      <td>3</td>\n",
       "    </tr>\n",
       "  </tbody>\n",
       "</table>\n",
       "</div>"
      ],
      "text/plain": [
       "                               text  label\n",
       "794865  G-STAR G-LAND FESTIVAL 2017      3\n",
       "794866               LG 드림페스티벌 2017      3\n",
       "794867    Lifeplus 벚꽃 피크닉 페스티벌 2018      3\n",
       "794868              SW 교육 페스티벌 2017      3\n",
       "794869     What We Wear:왓 위 웨어 2017      3"
      ]
     },
     "execution_count": 19,
     "metadata": {},
     "output_type": "execute_result"
    }
   ],
   "source": [
    "etc_df = pd.DataFrame({'text': etc})\n",
    "etc_df['label'] = 3\n",
    "etc_df.tail()"
   ]
  },
  {
   "cell_type": "code",
   "execution_count": 15,
   "metadata": {},
   "outputs": [
    {
     "data": {
      "text/plain": [
       "[]"
      ]
     },
     "execution_count": 15,
     "metadata": {},
     "output_type": "execute_result"
    }
   ],
   "source": [
    "nan"
   ]
  },
  {
   "cell_type": "code",
   "execution_count": 20,
   "metadata": {},
   "outputs": [
    {
     "data": {
      "text/plain": [
       "(1257408, 2)"
      ]
     },
     "execution_count": 20,
     "metadata": {},
     "output_type": "execute_result"
    }
   ],
   "source": [
    "total_train_data = pd.concat([reco_df, apo_df, info_df, etc_df], axis=0)\n",
    "total_train_data.reset_index(drop=True, inplace=True)\n",
    "total_train_data.shape"
   ]
  },
  {
   "cell_type": "code",
   "execution_count": 21,
   "metadata": {},
   "outputs": [
    {
     "data": {
      "text/html": [
       "<div>\n",
       "<style scoped>\n",
       "    .dataframe tbody tr th:only-of-type {\n",
       "        vertical-align: middle;\n",
       "    }\n",
       "\n",
       "    .dataframe tbody tr th {\n",
       "        vertical-align: top;\n",
       "    }\n",
       "\n",
       "    .dataframe thead th {\n",
       "        text-align: right;\n",
       "    }\n",
       "</style>\n",
       "<table border=\"1\" class=\"dataframe\">\n",
       "  <thead>\n",
       "    <tr style=\"text-align: right;\">\n",
       "      <th></th>\n",
       "      <th>text</th>\n",
       "      <th>label</th>\n",
       "    </tr>\n",
       "  </thead>\n",
       "  <tbody>\n",
       "    <tr>\n",
       "      <th>0</th>\n",
       "      <td>안내해 주신 방법을 시도해 봤는데 안 돼서요</td>\n",
       "      <td>0</td>\n",
       "    </tr>\n",
       "    <tr>\n",
       "      <th>1</th>\n",
       "      <td>휴대폰하고 신분증 챙기셔서 저희 서비스센터 쪽으로 방문하셔야 되세요 고객님</td>\n",
       "      <td>0</td>\n",
       "    </tr>\n",
       "    <tr>\n",
       "      <th>2</th>\n",
       "      <td>일단 고객님 고객님께서 설정하신 걸 입력하셨는데도 안 되신다면요</td>\n",
       "      <td>0</td>\n",
       "    </tr>\n",
       "    <tr>\n",
       "      <th>3</th>\n",
       "      <td>저희가 부산 해운대구에는   주소에 있는 센터가 있고요</td>\n",
       "      <td>0</td>\n",
       "    </tr>\n",
       "    <tr>\n",
       "      <th>4</th>\n",
       "      <td>저희 서비스센터로 오시면 됩니다 고객님</td>\n",
       "      <td>0</td>\n",
       "    </tr>\n",
       "    <tr>\n",
       "      <th>...</th>\n",
       "      <td>...</td>\n",
       "      <td>...</td>\n",
       "    </tr>\n",
       "    <tr>\n",
       "      <th>358276</th>\n",
       "      <td>강원도 가족여행지   곳 정리해뒀네요  장소 정해지면 네이버 블로그 리뷰로  꼭 정...</td>\n",
       "      <td>0</td>\n",
       "    </tr>\n",
       "    <tr>\n",
       "      <th>358277</th>\n",
       "      <td>저는 강원도에 안 번데기 다녀왔는데 너무 좋아서 추천드립니다  답변해 드리면서 강원...</td>\n",
       "      <td>0</td>\n",
       "    </tr>\n",
       "    <tr>\n",
       "      <th>358278</th>\n",
       "      <td>포항에 일본 가옥거리 추천해 드릴게요  작은 골목이라서 넓지는 않지만 옛날 생각나는...</td>\n",
       "      <td>0</td>\n",
       "    </tr>\n",
       "    <tr>\n",
       "      <th>358279</th>\n",
       "      <td>국제슬로시티로 지정된 전주 한옥마을 추천합니다  용산역에서 전라선 기차와 시외 고속...</td>\n",
       "      <td>0</td>\n",
       "    </tr>\n",
       "    <tr>\n",
       "      <th>358280</th>\n",
       "      <td>강릉까지 가도 되겠네요 강릉 강문해변 안목 해변 커피거리 경포호 해변 오죽헌 선교장...</td>\n",
       "      <td>0</td>\n",
       "    </tr>\n",
       "  </tbody>\n",
       "</table>\n",
       "<p>358281 rows × 2 columns</p>\n",
       "</div>"
      ],
      "text/plain": [
       "                                                     text  label\n",
       "0                                안내해 주신 방법을 시도해 봤는데 안 돼서요      0\n",
       "1               휴대폰하고 신분증 챙기셔서 저희 서비스센터 쪽으로 방문하셔야 되세요 고객님      0\n",
       "2                     일단 고객님 고객님께서 설정하신 걸 입력하셨는데도 안 되신다면요      0\n",
       "3                          저희가 부산 해운대구에는   주소에 있는 센터가 있고요      0\n",
       "4                                   저희 서비스센터로 오시면 됩니다 고객님      0\n",
       "...                                                   ...    ...\n",
       "358276  강원도 가족여행지   곳 정리해뒀네요  장소 정해지면 네이버 블로그 리뷰로  꼭 정...      0\n",
       "358277  저는 강원도에 안 번데기 다녀왔는데 너무 좋아서 추천드립니다  답변해 드리면서 강원...      0\n",
       "358278  포항에 일본 가옥거리 추천해 드릴게요  작은 골목이라서 넓지는 않지만 옛날 생각나는...      0\n",
       "358279  국제슬로시티로 지정된 전주 한옥마을 추천합니다  용산역에서 전라선 기차와 시외 고속...      0\n",
       "358280  강릉까지 가도 되겠네요 강릉 강문해변 안목 해변 커피거리 경포호 해변 오죽헌 선교장...      0\n",
       "\n",
       "[358281 rows x 2 columns]"
      ]
     },
     "execution_count": 21,
     "metadata": {},
     "output_type": "execute_result"
    }
   ],
   "source": [
    "total_train_data[total_train_data['label'] == 0]"
   ]
  },
  {
   "cell_type": "code",
   "execution_count": 18,
   "metadata": {},
   "outputs": [
    {
     "data": {
      "text/html": [
       "<div>\n",
       "<style scoped>\n",
       "    .dataframe tbody tr th:only-of-type {\n",
       "        vertical-align: middle;\n",
       "    }\n",
       "\n",
       "    .dataframe tbody tr th {\n",
       "        vertical-align: top;\n",
       "    }\n",
       "\n",
       "    .dataframe thead th {\n",
       "        text-align: right;\n",
       "    }\n",
       "</style>\n",
       "<table border=\"1\" class=\"dataframe\">\n",
       "  <thead>\n",
       "    <tr style=\"text-align: right;\">\n",
       "      <th></th>\n",
       "      <th>text</th>\n",
       "      <th>label</th>\n",
       "    </tr>\n",
       "  </thead>\n",
       "  <tbody>\n",
       "    <tr>\n",
       "      <th>74311</th>\n",
       "      <td>반갑습니다   소속  상담사   이름 입니다</td>\n",
       "      <td>1</td>\n",
       "    </tr>\n",
       "    <tr>\n",
       "      <th>74312</th>\n",
       "      <td>휴대폰 명의자 본인이요</td>\n",
       "      <td>1</td>\n",
       "    </tr>\n",
       "    <tr>\n",
       "      <th>74313</th>\n",
       "      <td>휴대폰하고 신분증 챙기셔서 저희 서비스센터 쪽으로 방문 하셔야 되세요 고객님</td>\n",
       "      <td>1</td>\n",
       "    </tr>\n",
       "    <tr>\n",
       "      <th>74314</th>\n",
       "      <td>그건 고객님 설정하신 번호 눌러도 진입이 안 되세요 고객님</td>\n",
       "      <td>1</td>\n",
       "    </tr>\n",
       "    <tr>\n",
       "      <th>74315</th>\n",
       "      <td>일단 고객님 고객님께서 설정하신 걸 입력하셨는 데도 안 되신다면요</td>\n",
       "      <td>1</td>\n",
       "    </tr>\n",
       "    <tr>\n",
       "      <th>...</th>\n",
       "      <td>...</td>\n",
       "      <td>...</td>\n",
       "    </tr>\n",
       "    <tr>\n",
       "      <th>150039</th>\n",
       "      <td>택시가 확실히 편합니다  그외에도 가시는 위치의 놀거리 찾고 싶으면 놀이의 발견 이...</td>\n",
       "      <td>1</td>\n",
       "    </tr>\n",
       "    <tr>\n",
       "      <th>150040</th>\n",
       "      <td>경주 대릉원 불국사 동궁과월지요  https   coupa ng b ApO  쿠팡 ...</td>\n",
       "      <td>1</td>\n",
       "    </tr>\n",
       "    <tr>\n",
       "      <th>150041</th>\n",
       "      <td>여수엑스포역   오동도   이순신광장   하멜등대   여수해상케이블카   하멜등대근...</td>\n",
       "      <td>1</td>\n",
       "    </tr>\n",
       "    <tr>\n",
       "      <th>150042</th>\n",
       "      <td>안녕하세요  저도 이번에 친구들이랑 갈음이해수욕장  다녀왔어요 날도 덥고해서 바다가...</td>\n",
       "      <td>1</td>\n",
       "    </tr>\n",
       "    <tr>\n",
       "      <th>150043</th>\n",
       "      <td>대부도 하이클래스 펜션입니다    각종 행사 잔치 스몰웨딩까지 다 가능합니다   P...</td>\n",
       "      <td>1</td>\n",
       "    </tr>\n",
       "  </tbody>\n",
       "</table>\n",
       "<p>75733 rows × 2 columns</p>\n",
       "</div>"
      ],
      "text/plain": [
       "                                                     text  label\n",
       "74311                            반갑습니다   소속  상담사   이름 입니다      1\n",
       "74312                                        휴대폰 명의자 본인이요      1\n",
       "74313          휴대폰하고 신분증 챙기셔서 저희 서비스센터 쪽으로 방문 하셔야 되세요 고객님      1\n",
       "74314                    그건 고객님 설정하신 번호 눌러도 진입이 안 되세요 고객님      1\n",
       "74315                일단 고객님 고객님께서 설정하신 걸 입력하셨는 데도 안 되신다면요      1\n",
       "...                                                   ...    ...\n",
       "150039  택시가 확실히 편합니다  그외에도 가시는 위치의 놀거리 찾고 싶으면 놀이의 발견 이...      1\n",
       "150040  경주 대릉원 불국사 동궁과월지요  https   coupa ng b ApO  쿠팡 ...      1\n",
       "150041  여수엑스포역   오동도   이순신광장   하멜등대   여수해상케이블카   하멜등대근...      1\n",
       "150042  안녕하세요  저도 이번에 친구들이랑 갈음이해수욕장  다녀왔어요 날도 덥고해서 바다가...      1\n",
       "150043  대부도 하이클래스 펜션입니다    각종 행사 잔치 스몰웨딩까지 다 가능합니다   P...      1\n",
       "\n",
       "[75733 rows x 2 columns]"
      ]
     },
     "execution_count": 18,
     "metadata": {},
     "output_type": "execute_result"
    }
   ],
   "source": [
    "total_train_data[total_train_data['label'] == 1]"
   ]
  },
  {
   "cell_type": "code",
   "execution_count": 22,
   "metadata": {},
   "outputs": [
    {
     "data": {
      "text/html": [
       "<div>\n",
       "<style scoped>\n",
       "    .dataframe tbody tr th:only-of-type {\n",
       "        vertical-align: middle;\n",
       "    }\n",
       "\n",
       "    .dataframe tbody tr th {\n",
       "        vertical-align: top;\n",
       "    }\n",
       "\n",
       "    .dataframe thead th {\n",
       "        text-align: right;\n",
       "    }\n",
       "</style>\n",
       "<table border=\"1\" class=\"dataframe\">\n",
       "  <thead>\n",
       "    <tr style=\"text-align: right;\">\n",
       "      <th></th>\n",
       "      <th>text</th>\n",
       "      <th>label</th>\n",
       "    </tr>\n",
       "  </thead>\n",
       "  <tbody>\n",
       "    <tr>\n",
       "      <th>420194</th>\n",
       "      <td>그러시다면 두 번째 방법은요</td>\n",
       "      <td>2</td>\n",
       "    </tr>\n",
       "    <tr>\n",
       "      <th>420195</th>\n",
       "      <td>아니시면   주소에 있는 작은 분점도 확인되고 있습니다</td>\n",
       "      <td>2</td>\n",
       "    </tr>\n",
       "    <tr>\n",
       "      <th>420196</th>\n",
       "      <td>주소 이 나을 거 같아요</td>\n",
       "      <td>2</td>\n",
       "    </tr>\n",
       "    <tr>\n",
       "      <th>420197</th>\n",
       "      <td>그러세요 그러시다면   주소 은 지하철 장산역 십사 번 출구에 있고요</td>\n",
       "      <td>2</td>\n",
       "    </tr>\n",
       "    <tr>\n",
       "      <th>420198</th>\n",
       "      <td>아까 주소 얘기하다가 끊어졌죠  주소에 있는   주소에요</td>\n",
       "      <td>2</td>\n",
       "    </tr>\n",
       "    <tr>\n",
       "      <th>...</th>\n",
       "      <td>...</td>\n",
       "      <td>...</td>\n",
       "    </tr>\n",
       "    <tr>\n",
       "      <th>462533</th>\n",
       "      <td>DGIST 세계 명문 대학 조정 축제 2017</td>\n",
       "      <td>2</td>\n",
       "    </tr>\n",
       "    <tr>\n",
       "      <th>462534</th>\n",
       "      <td>DMZ 펀치볼 시래기축제 2018</td>\n",
       "      <td>2</td>\n",
       "    </tr>\n",
       "    <tr>\n",
       "      <th>462535</th>\n",
       "      <td>Hello! 과학마을축제 2017</td>\n",
       "      <td>2</td>\n",
       "    </tr>\n",
       "    <tr>\n",
       "      <th>462536</th>\n",
       "      <td>JDC 지구촌 문화축제 2017</td>\n",
       "      <td>2</td>\n",
       "    </tr>\n",
       "    <tr>\n",
       "      <th>462537</th>\n",
       "      <td>KF 청계천 음악 축제 2017</td>\n",
       "      <td>2</td>\n",
       "    </tr>\n",
       "  </tbody>\n",
       "</table>\n",
       "<p>42344 rows × 2 columns</p>\n",
       "</div>"
      ],
      "text/plain": [
       "                                          text  label\n",
       "420194                         그러시다면 두 번째 방법은요      2\n",
       "420195          아니시면   주소에 있는 작은 분점도 확인되고 있습니다      2\n",
       "420196                           주소 이 나을 거 같아요      2\n",
       "420197  그러세요 그러시다면   주소 은 지하철 장산역 십사 번 출구에 있고요      2\n",
       "420198         아까 주소 얘기하다가 끊어졌죠  주소에 있는   주소에요      2\n",
       "...                                        ...    ...\n",
       "462533               DGIST 세계 명문 대학 조정 축제 2017      2\n",
       "462534                      DMZ 펀치볼 시래기축제 2018      2\n",
       "462535                      Hello! 과학마을축제 2017      2\n",
       "462536                       JDC 지구촌 문화축제 2017      2\n",
       "462537                       KF 청계천 음악 축제 2017      2\n",
       "\n",
       "[42344 rows x 2 columns]"
      ]
     },
     "execution_count": 22,
     "metadata": {},
     "output_type": "execute_result"
    }
   ],
   "source": [
    "total_train_data[total_train_data['label'] == 2]"
   ]
  },
  {
   "cell_type": "code",
   "execution_count": 23,
   "metadata": {},
   "outputs": [
    {
     "data": {
      "text/html": [
       "<div>\n",
       "<style scoped>\n",
       "    .dataframe tbody tr th:only-of-type {\n",
       "        vertical-align: middle;\n",
       "    }\n",
       "\n",
       "    .dataframe tbody tr th {\n",
       "        vertical-align: top;\n",
       "    }\n",
       "\n",
       "    .dataframe thead th {\n",
       "        text-align: right;\n",
       "    }\n",
       "</style>\n",
       "<table border=\"1\" class=\"dataframe\">\n",
       "  <thead>\n",
       "    <tr style=\"text-align: right;\">\n",
       "      <th></th>\n",
       "      <th>text</th>\n",
       "      <th>label</th>\n",
       "    </tr>\n",
       "  </thead>\n",
       "  <tbody>\n",
       "    <tr>\n",
       "      <th>462538</th>\n",
       "      <td>이게 왜 이렇게 된 거죠</td>\n",
       "      <td>3</td>\n",
       "    </tr>\n",
       "    <tr>\n",
       "      <th>462539</th>\n",
       "      <td>그거 내가 설정 안 해놨는데요</td>\n",
       "      <td>3</td>\n",
       "    </tr>\n",
       "    <tr>\n",
       "      <th>462540</th>\n",
       "      <td>그거 해봤지요 안 되네요</td>\n",
       "      <td>3</td>\n",
       "    </tr>\n",
       "    <tr>\n",
       "      <th>462541</th>\n",
       "      <td>어쩔 수 없지요 센터 가야 되겠네요</td>\n",
       "      <td>3</td>\n",
       "    </tr>\n",
       "    <tr>\n",
       "      <th>462542</th>\n",
       "      <td>그러면 회현 쪽에 좀 알려주셔요</td>\n",
       "      <td>3</td>\n",
       "    </tr>\n",
       "    <tr>\n",
       "      <th>...</th>\n",
       "      <td>...</td>\n",
       "      <td>...</td>\n",
       "    </tr>\n",
       "    <tr>\n",
       "      <th>1257403</th>\n",
       "      <td>G-STAR G-LAND FESTIVAL 2017</td>\n",
       "      <td>3</td>\n",
       "    </tr>\n",
       "    <tr>\n",
       "      <th>1257404</th>\n",
       "      <td>LG 드림페스티벌 2017</td>\n",
       "      <td>3</td>\n",
       "    </tr>\n",
       "    <tr>\n",
       "      <th>1257405</th>\n",
       "      <td>Lifeplus 벚꽃 피크닉 페스티벌 2018</td>\n",
       "      <td>3</td>\n",
       "    </tr>\n",
       "    <tr>\n",
       "      <th>1257406</th>\n",
       "      <td>SW 교육 페스티벌 2017</td>\n",
       "      <td>3</td>\n",
       "    </tr>\n",
       "    <tr>\n",
       "      <th>1257407</th>\n",
       "      <td>What We Wear:왓 위 웨어 2017</td>\n",
       "      <td>3</td>\n",
       "    </tr>\n",
       "  </tbody>\n",
       "</table>\n",
       "<p>794870 rows × 2 columns</p>\n",
       "</div>"
      ],
      "text/plain": [
       "                                text  label\n",
       "462538                 이게 왜 이렇게 된 거죠      3\n",
       "462539              그거 내가 설정 안 해놨는데요      3\n",
       "462540                 그거 해봤지요 안 되네요      3\n",
       "462541           어쩔 수 없지요 센터 가야 되겠네요      3\n",
       "462542             그러면 회현 쪽에 좀 알려주셔요      3\n",
       "...                              ...    ...\n",
       "1257403  G-STAR G-LAND FESTIVAL 2017      3\n",
       "1257404               LG 드림페스티벌 2017      3\n",
       "1257405    Lifeplus 벚꽃 피크닉 페스티벌 2018      3\n",
       "1257406              SW 교육 페스티벌 2017      3\n",
       "1257407     What We Wear:왓 위 웨어 2017      3\n",
       "\n",
       "[794870 rows x 2 columns]"
      ]
     },
     "execution_count": 23,
     "metadata": {},
     "output_type": "execute_result"
    }
   ],
   "source": [
    "total_train_data[total_train_data['label'] == 3]"
   ]
  },
  {
   "cell_type": "code",
   "execution_count": 24,
   "metadata": {},
   "outputs": [],
   "source": [
    "total_train_data.to_csv('../data/수정데이터/total_train_data.csv', index=False)"
   ]
  },
  {
   "attachments": {},
   "cell_type": "markdown",
   "metadata": {},
   "source": [
    "## 3. 적절한 패딩 길이 탐색"
   ]
  },
  {
   "cell_type": "code",
   "execution_count": 25,
   "metadata": {},
   "outputs": [],
   "source": [
    "total_train_data = pd.read_csv('../data/수정데이터/total_train_data.csv')"
   ]
  },
  {
   "cell_type": "code",
   "execution_count": 26,
   "metadata": {},
   "outputs": [],
   "source": [
    "tokenizer = Komoran()"
   ]
  },
  {
   "cell_type": "code",
   "execution_count": 27,
   "metadata": {},
   "outputs": [],
   "source": [
    "data_tokenized = [[token + '/' + POS for token, POS in tokenizer.pos(text)] for text in total_train_data['text']]"
   ]
  },
  {
   "cell_type": "code",
   "execution_count": 33,
   "metadata": {},
   "outputs": [],
   "source": [
    "exclusion_tags = [\n",
    "    \"JKS\", \"JKC\", \"JKG\", \"JKO\", \"JKB\", \"JKV\", \"JKQ\",\n",
    "    \"JX\", \"JC\",\n",
    "    \"SF\", \"SP\", \"SS\", \"SE\", \"SO\",\n",
    "    \"EP\", \"EF\", \"EC\", \"ETN\", \"ETM\",\n",
    "    \"XSN\", \"XSV\", \"XSA\",\n",
    "]\n",
    "def Exclusion_tags(x):\n",
    "    return x in exclusion_tags\n",
    "\n",
    "data_list = []\n",
    "for i in range(len(data_tokenized)):\n",
    "    temp = []\n",
    "    for j in range(len(data_tokenized[i])):\n",
    "        if Exclusion_tags(data_tokenized[i][j].split('/')[1]) is False:\n",
    "            temp.append(data_tokenized[i][j].split('/')[0])\n",
    "    data_list.append(temp)"
   ]
  },
  {
   "cell_type": "code",
   "execution_count": 34,
   "metadata": {},
   "outputs": [
    {
     "data": {
      "text/plain": [
       "1257408"
      ]
     },
     "execution_count": 34,
     "metadata": {},
     "output_type": "execute_result"
    }
   ],
   "source": [
    "len(data_list)"
   ]
  },
  {
   "cell_type": "code",
   "execution_count": 35,
   "metadata": {},
   "outputs": [
    {
     "name": "stdout",
     "output_type": "stream",
     "text": [
      "토큰 길이 평균: 6.30160536595918\n",
      "토큰 길이 최대: 155\n",
      "토큰 길이 표준편차: 3.588830342925471\n"
     ]
    }
   ],
   "source": [
    "num_tokens = [len(sent) for sent in data_list]\n",
    "num_tokens = np.array(num_tokens)\n",
    "print('토큰 길이 평균:', num_tokens.mean())\n",
    "print('토큰 길이 최대:', num_tokens.max())\n",
    "print('토큰 길이 표준편차:', num_tokens.std())"
   ]
  },
  {
   "cell_type": "code",
   "execution_count": 36,
   "metadata": {},
   "outputs": [
    {
     "name": "stdout",
     "output_type": "stream",
     "text": [
      "전체 샘플 중 길이가 25 이하인 샘플의 비율: 0.9987625337201609\n"
     ]
    }
   ],
   "source": [
    "MAX_SEQ_LEN = 25\n",
    "def below_len_rate(max_len, data_list):\n",
    "    cnt = 0\n",
    "    for s in data_list:\n",
    "        if (len(s) <= max_len):\n",
    "            cnt = cnt + 1\n",
    "\n",
    "    print(f'전체 샘플 중 길이가 {max_len} 이하인 샘플의 비율: {(cnt / len(data_list))}')\n",
    "below_len_rate(MAX_SEQ_LEN, data_list)"
   ]
  },
  {
   "cell_type": "code",
   "execution_count": 37,
   "metadata": {},
   "outputs": [
    {
     "data": {
      "text/plain": [
       "['남동생/NNP',\n",
       " '이랑/NNP',\n",
       " '너무/MAG',\n",
       " '데/NNB',\n",
       " '이/VCP',\n",
       " '면/EC',\n",
       " '데/NNB',\n",
       " '이/VCP',\n",
       " '면/EC',\n",
       " '하하/NNP']"
      ]
     },
     "execution_count": 37,
     "metadata": {},
     "output_type": "execute_result"
    }
   ],
   "source": [
    "num_tokens.argmax()\n",
    "data_tokenized[73475]"
   ]
  },
  {
   "cell_type": "code",
   "execution_count": null,
   "metadata": {},
   "outputs": [],
   "source": []
  }
 ],
 "metadata": {
  "kernelspec": {
   "display_name": "base",
   "language": "python",
   "name": "python3"
  },
  "language_info": {
   "codemirror_mode": {
    "name": "ipython",
    "version": 3
   },
   "file_extension": ".py",
   "mimetype": "text/x-python",
   "name": "python",
   "nbconvert_exporter": "python",
   "pygments_lexer": "ipython3",
   "version": "3.9.13"
  },
  "orig_nbformat": 4
 },
 "nbformat": 4,
 "nbformat_minor": 2
}
