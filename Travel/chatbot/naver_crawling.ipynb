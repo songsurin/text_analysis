{
 "cells": [
  {
   "cell_type": "code",
   "execution_count": 113,
   "metadata": {},
   "outputs": [],
   "source": [
    "# import\n",
    "import pandas as pd\n",
    "import time\n",
    "from selenium import webdriver\n",
    "from selenium.webdriver.common.by import By"
   ]
  },
  {
   "cell_type": "code",
   "execution_count": 114,
   "metadata": {},
   "outputs": [],
   "source": [
    "url = 'https://kin.naver.com/'\n",
    "driver = webdriver.Chrome()\n",
    "driver.get(url)\n",
    "time.sleep(1)"
   ]
  },
  {
   "cell_type": "code",
   "execution_count": 115,
   "metadata": {},
   "outputs": [],
   "source": [
    "driver.find_element(By.CLASS_NAME, 'ico_close_layer').click()\n",
    "time.sleep(0.5)\n",
    "driver.find_element(By.TAG_NAME, 'input').send_keys('국내 여행지 추천')\n",
    "driver.find_element(By.CLASS_NAME, 'search_btn').click()"
   ]
  },
  {
   "cell_type": "code",
   "execution_count": 116,
   "metadata": {},
   "outputs": [],
   "source": [
    "title = []\n",
    "question = []\n",
    "answer = []"
   ]
  },
  {
   "cell_type": "code",
   "execution_count": 117,
   "metadata": {},
   "outputs": [],
   "source": [
    "for k in range(10):\n",
    "    for j in range(1, len(driver.find_element(By.CLASS_NAME, 's_paging').find_elements(By.TAG_NAME, 'a'))):\n",
    "        for i in range(len(driver.find_elements(By.CLASS_NAME, '_searchListTitleAnchor'))):\n",
    "            driver.find_elements(By.CLASS_NAME, '_searchListTitleAnchor')[i].click()\n",
    "            time.sleep(1)\n",
    "            driver.switch_to.window(driver.window_handles[-1])\n",
    "            title.append(driver.find_element(By.CLASS_NAME, 'title').text)\n",
    "            try:\n",
    "                question.append(driver.find_element(By.CLASS_NAME, 'c-heading__content').text)\n",
    "            except:\n",
    "                question.append('')\n",
    "            answer.append(driver.find_element(By.CLASS_NAME, 'c-heading-answer__content').text)\n",
    "            driver.close()\n",
    "            driver.switch_to.window(driver.window_handles[0])\n",
    "        driver.find_element(By.CLASS_NAME, 's_paging').find_elements(By.TAG_NAME, 'a')[j].click()\n",
    "        time.sleep(1)"
   ]
  },
  {
   "cell_type": "code",
   "execution_count": 122,
   "metadata": {},
   "outputs": [],
   "source": [
    "df = pd.DataFrame({'title':title, 'question':question, 'answer':answer})"
   ]
  },
  {
   "cell_type": "code",
   "execution_count": 127,
   "metadata": {},
   "outputs": [],
   "source": [
    "df.to_csv('naver크롤링.csv', encoding='utf-8')"
   ]
  },
  {
   "cell_type": "code",
   "execution_count": null,
   "metadata": {},
   "outputs": [],
   "source": []
  }
 ],
 "metadata": {
  "kernelspec": {
   "display_name": "base",
   "language": "python",
   "name": "python3"
  },
  "language_info": {
   "codemirror_mode": {
    "name": "ipython",
    "version": 3
   },
   "file_extension": ".py",
   "mimetype": "text/x-python",
   "name": "python",
   "nbconvert_exporter": "python",
   "pygments_lexer": "ipython3",
   "version": "3.9.13"
  },
  "orig_nbformat": 4
 },
 "nbformat": 4,
 "nbformat_minor": 2
}
